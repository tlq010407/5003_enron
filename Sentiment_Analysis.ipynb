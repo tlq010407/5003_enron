{
 "cells": [
  {
   "cell_type": "code",
   "execution_count": 1,
   "metadata": {},
   "outputs": [],
   "source": [
    "# Sentiment Analysis\n",
    "import vaderSentiment\n",
    "from vaderSentiment.vaderSentiment import SentimentIntensityAnalyzer\n",
    "from nrclex import NRCLex\n",
    "import csv\n",
    "import pandas as pd\n",
    "import numpy as np\n",
    "import matplotlib.pyplot as plt\n",
    "import seaborn as sns"
   ]
  },
  {
   "cell_type": "code",
   "execution_count": null,
   "metadata": {},
   "outputs": [],
   "source": [
    "df = pd.read_csv('../enron_emails_cleaned.csv')"
   ]
  },
  {
   "cell_type": "code",
   "execution_count": null,
   "metadata": {},
   "outputs": [],
   "source": [
    "# praeparing the sentiment analyzer\n",
    "analyzer = SentimentIntensityAnalyzer()"
   ]
  },
  {
   "cell_type": "code",
   "execution_count": null,
   "metadata": {},
   "outputs": [],
   "source": [
    "df['sentiment scores'] = [analyzer.polarity_scores(message) for message in text]\n",
    "df.sample(5)"
   ]
  },
  {
   "cell_type": "code",
   "execution_count": null,
   "metadata": {},
   "outputs": [],
   "source": [
    "# Determine the positive and negative scores\n",
    "sentiment = []\n",
    "for i in df['sentiment scores'].values:\n",
    "    if i['compound'] > 0.05:\n",
    "        sentiment.append('Positive')\n",
    "    elif i['compound'] < 0.05:\n",
    "        sentiment.append('Negative')\n",
    "    else:\n",
    "        sentiment.append('Neutral')\n",
    "df['Sentiment'] = sentiment"
   ]
  },
  {
   "cell_type": "code",
   "execution_count": null,
   "metadata": {},
   "outputs": [],
   "source": [
    "sentiment_values = df['Sentiment'].value_counts()\n",
    "sentiment_values"
   ]
  },
  {
   "cell_type": "code",
   "execution_count": null,
   "metadata": {},
   "outputs": [],
   "source": [
    "# a graph for the sentiment as a funnel shaped graph\n",
    "fig = px.funnel(sentiment_values)\n",
    "fig.show()"
   ]
  },
  {
   "cell_type": "code",
   "execution_count": null,
   "metadata": {},
   "outputs": [],
   "source": [
    "# defining another function for sentiment analysis with different emotions using NRCLex lexicon\n",
    "def sentiment(message):\n",
    "    text = NRCLex(message)\n",
    "    if text.top_emotions[0][1] == 0.0:\n",
    "        return 'No Emotion'\n",
    "    else:\n",
    "        return text.top_emotions[0][0]\n",
    "df['Emotions'] =  df['Body'].apply(sentiment)\n",
    "df.sample(5)"
   ]
  },
  {
   "cell_type": "code",
   "execution_count": null,
   "metadata": {},
   "outputs": [],
   "source": [
    "emotions = df['Emotions'].value_counts()\n",
    "emotion_chart = pd.DataFrame(emotions)\n",
    "emotion_chart = emotion_chart.drop('No Emotion', axis = 0)\n",
    "emotion_chart"
   ]
  },
  {
   "cell_type": "code",
   "execution_count": null,
   "metadata": {},
   "outputs": [],
   "source": [
    "# A pie chart for showing the percentage of every emotion in the text\n",
    "labels = emotion_chart.index.tolist()\n",
    "plt.figure(figsize = (11,11))\n",
    "plt.pie(emotion_chart['Emotions'].values, labels = labels , autopct = '%1.1f%%', labeldistance= 1.1)\n",
    "plt.title('Emotions', fontsize = 14)\n",
    "plt.legend(loc = 'upper right')\n",
    "plt.show()"
   ]
  }
 ],
 "metadata": {
  "kernelspec": {
   "display_name": "base",
   "language": "python",
   "name": "python3"
  },
  "language_info": {
   "codemirror_mode": {
    "name": "ipython",
    "version": 3
   },
   "file_extension": ".py",
   "mimetype": "text/x-python",
   "name": "python",
   "nbconvert_exporter": "python",
   "pygments_lexer": "ipython3",
   "version": "3.11.8"
  }
 },
 "nbformat": 4,
 "nbformat_minor": 2
}
