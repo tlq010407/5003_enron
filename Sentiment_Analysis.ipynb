{
 "cells": [
  {
   "cell_type": "code",
   "execution_count": 6,
   "metadata": {},
   "outputs": [],
   "source": [
    "# Sentiment Analysis\n",
    "import vaderSentiment\n",
    "from vaderSentiment.vaderSentiment import SentimentIntensityAnalyzer\n",
    "from nrclex import NRCLex\n",
    "import csv\n",
    "import pandas as pd\n",
    "import numpy as np\n",
    "import matplotlib.pyplot as plt\n",
    "import seaborn as sns"
   ]
  },
  {
   "cell_type": "code",
   "execution_count": 7,
   "metadata": {},
   "outputs": [],
   "source": [
    "# Load the cleaned data\n",
    "df = pd.read_csv('../enron_emails_cleaned.csv')"
   ]
  },
  {
   "cell_type": "code",
   "execution_count": 8,
   "metadata": {},
   "outputs": [],
   "source": [
    "# praeparing the sentiment analyzer\n",
    "analyzer = SentimentIntensityAnalyzer()"
   ]
  },
  {
   "cell_type": "code",
   "execution_count": 9,
   "metadata": {},
   "outputs": [],
   "source": [
    "# Save `content` column as a string\n",
    "text=df['Content'].astype(str)"
   ]
  },
  {
   "cell_type": "code",
   "execution_count": 10,
   "metadata": {},
   "outputs": [
    {
     "data": {
      "text/html": [
       "<div>\n",
       "<style scoped>\n",
       "    .dataframe tbody tr th:only-of-type {\n",
       "        vertical-align: middle;\n",
       "    }\n",
       "\n",
       "    .dataframe tbody tr th {\n",
       "        vertical-align: top;\n",
       "    }\n",
       "\n",
       "    .dataframe thead th {\n",
       "        text-align: right;\n",
       "    }\n",
       "</style>\n",
       "<table border=\"1\" class=\"dataframe\">\n",
       "  <thead>\n",
       "    <tr style=\"text-align: right;\">\n",
       "      <th></th>\n",
       "      <th>Date</th>\n",
       "      <th>From</th>\n",
       "      <th>To</th>\n",
       "      <th>Subject</th>\n",
       "      <th>X-From</th>\n",
       "      <th>X-To</th>\n",
       "      <th>X-Folder</th>\n",
       "      <th>Folder</th>\n",
       "      <th>X-Origin</th>\n",
       "      <th>X-Filename</th>\n",
       "      <th>Content</th>\n",
       "      <th>Employee</th>\n",
       "      <th>Year</th>\n",
       "      <th>Month</th>\n",
       "      <th>sentiment scores</th>\n",
       "    </tr>\n",
       "  </thead>\n",
       "  <tbody>\n",
       "    <tr>\n",
       "      <th>119838</th>\n",
       "      <td>2000-07-24 14:02:00+00:00</td>\n",
       "      <td>mjones7@txu.com</td>\n",
       "      <td>cstone1@txu.com, ggreen2@txu.com, timpowell@tx...</td>\n",
       "      <td>Enron / HPL Actuals for July 21 - 23, 2000</td>\n",
       "      <td>Melissa Jones</td>\n",
       "      <td>Charlie Stone</td>\n",
       "      <td>\\Darren_Farmer_Dec2000\\Notes Folders\\Discussio...</td>\n",
       "      <td>discussion threads</td>\n",
       "      <td>Farmer-D</td>\n",
       "      <td>dfarmer.nsf</td>\n",
       "      <td>july 21, 2000 teco tap 40.000 / hpl iferc ls h...</td>\n",
       "      <td>farmer-d</td>\n",
       "      <td>2000</td>\n",
       "      <td>7</td>\n",
       "      <td>{'neg': 0.0, 'neu': 1.0, 'pos': 0.0, 'compound...</td>\n",
       "    </tr>\n",
       "    <tr>\n",
       "      <th>104199</th>\n",
       "      <td>2001-05-23 14:35:00+00:00</td>\n",
       "      <td>showard@agsk.com</td>\n",
       "      <td>dcweiner@hahnlaw.com</td>\n",
       "      <td>McConville</td>\n",
       "      <td>showard</td>\n",
       "      <td>dcweiner</td>\n",
       "      <td>\\Richard_Sanders_Oct2001\\Notes Folders\\Nsm</td>\n",
       "      <td>nsm</td>\n",
       "      <td>Sanders-R</td>\n",
       "      <td>rsanders.nsf</td>\n",
       "      <td>dave, kevin mcconville was deposed yesterday i...</td>\n",
       "      <td>sanders-r</td>\n",
       "      <td>2001</td>\n",
       "      <td>5</td>\n",
       "      <td>{'neg': 0.029, 'neu': 0.906, 'pos': 0.065, 'co...</td>\n",
       "    </tr>\n",
       "    <tr>\n",
       "      <th>86137</th>\n",
       "      <td>2001-01-08 15:17:00+00:00</td>\n",
       "      <td>chris.germany@enron.com</td>\n",
       "      <td>joann.collins@enron.com, alvin.thompson@enron.com</td>\n",
       "      <td>New Power deals</td>\n",
       "      <td>Chris Germany</td>\n",
       "      <td>Joann Collins Alvin Thompson</td>\n",
       "      <td>\\Chris_Germany_Jun2001\\Notes Folders\\All docum...</td>\n",
       "      <td>all documents</td>\n",
       "      <td>Germany-C</td>\n",
       "      <td>cgerman.nsf</td>\n",
       "      <td>i extended deal 559947 (pool sale) thru the 31...</td>\n",
       "      <td>germany-c</td>\n",
       "      <td>2001</td>\n",
       "      <td>1</td>\n",
       "      <td>{'neg': 0.0, 'neu': 1.0, 'pos': 0.0, 'compound...</td>\n",
       "    </tr>\n",
       "    <tr>\n",
       "      <th>62219</th>\n",
       "      <td>2000-08-02 17:36:00+00:00</td>\n",
       "      <td>mike.mcconnell@enron.com</td>\n",
       "      <td>jeffrey.mcmahon@enron.com</td>\n",
       "      <td>Acta DASH</td>\n",
       "      <td>Mike McConnell</td>\n",
       "      <td>Jeffrey McMahon</td>\n",
       "      <td>\\Mark_McConnell_June2001\\Notes Folders\\All doc...</td>\n",
       "      <td>all documents</td>\n",
       "      <td>MCCONNELL-M</td>\n",
       "      <td>mmcconn.nsf</td>\n",
       "      <td>forwarded by mike mcconnell/hou/ect on 08/02/2...</td>\n",
       "      <td>mcconnell-m</td>\n",
       "      <td>2000</td>\n",
       "      <td>8</td>\n",
       "      <td>{'neg': 0.0, 'neu': 1.0, 'pos': 0.0, 'compound...</td>\n",
       "    </tr>\n",
       "    <tr>\n",
       "      <th>362626</th>\n",
       "      <td>2000-09-28 19:07:00+00:00</td>\n",
       "      <td>don.miller@enron.com</td>\n",
       "      <td>benjamin.rogers@enron.com</td>\n",
       "      <td>Energy Financing Company, LLC</td>\n",
       "      <td>Don Miller</td>\n",
       "      <td>Benjamin Rogers</td>\n",
       "      <td>\\Benjamin_Rogers_Dec2000_2\\Notes Folders\\Discu...</td>\n",
       "      <td>discussion threads</td>\n",
       "      <td>Rogers-B</td>\n",
       "      <td>brogers.nsf</td>\n",
       "      <td>forwarded by don miller/hou/ect on 09/28/2000 ...</td>\n",
       "      <td>rogers-b</td>\n",
       "      <td>2000</td>\n",
       "      <td>9</td>\n",
       "      <td>{'neg': 0.0, 'neu': 0.932, 'pos': 0.068, 'comp...</td>\n",
       "    </tr>\n",
       "  </tbody>\n",
       "</table>\n",
       "</div>"
      ],
      "text/plain": [
       "                             Date                      From  \\\n",
       "119838  2000-07-24 14:02:00+00:00           mjones7@txu.com   \n",
       "104199  2001-05-23 14:35:00+00:00          showard@agsk.com   \n",
       "86137   2001-01-08 15:17:00+00:00   chris.germany@enron.com   \n",
       "62219   2000-08-02 17:36:00+00:00  mike.mcconnell@enron.com   \n",
       "362626  2000-09-28 19:07:00+00:00      don.miller@enron.com   \n",
       "\n",
       "                                                       To  \\\n",
       "119838  cstone1@txu.com, ggreen2@txu.com, timpowell@tx...   \n",
       "104199                               dcweiner@hahnlaw.com   \n",
       "86137   joann.collins@enron.com, alvin.thompson@enron.com   \n",
       "62219                           jeffrey.mcmahon@enron.com   \n",
       "362626                          benjamin.rogers@enron.com   \n",
       "\n",
       "                                           Subject          X-From  \\\n",
       "119838  Enron / HPL Actuals for July 21 - 23, 2000   Melissa Jones   \n",
       "104199                                  McConville         showard   \n",
       "86137                              New Power deals   Chris Germany   \n",
       "62219                                    Acta DASH  Mike McConnell   \n",
       "362626               Energy Financing Company, LLC      Don Miller   \n",
       "\n",
       "                                X-To  \\\n",
       "119838                 Charlie Stone   \n",
       "104199                      dcweiner   \n",
       "86137   Joann Collins Alvin Thompson   \n",
       "62219                Jeffrey McMahon   \n",
       "362626               Benjamin Rogers   \n",
       "\n",
       "                                                 X-Folder              Folder  \\\n",
       "119838  \\Darren_Farmer_Dec2000\\Notes Folders\\Discussio...  discussion threads   \n",
       "104199         \\Richard_Sanders_Oct2001\\Notes Folders\\Nsm                 nsm   \n",
       "86137   \\Chris_Germany_Jun2001\\Notes Folders\\All docum...       all documents   \n",
       "62219   \\Mark_McConnell_June2001\\Notes Folders\\All doc...       all documents   \n",
       "362626  \\Benjamin_Rogers_Dec2000_2\\Notes Folders\\Discu...  discussion threads   \n",
       "\n",
       "           X-Origin    X-Filename  \\\n",
       "119838     Farmer-D   dfarmer.nsf   \n",
       "104199    Sanders-R  rsanders.nsf   \n",
       "86137     Germany-C   cgerman.nsf   \n",
       "62219   MCCONNELL-M   mmcconn.nsf   \n",
       "362626     Rogers-B   brogers.nsf   \n",
       "\n",
       "                                                  Content     Employee  Year  \\\n",
       "119838  july 21, 2000 teco tap 40.000 / hpl iferc ls h...     farmer-d  2000   \n",
       "104199  dave, kevin mcconville was deposed yesterday i...    sanders-r  2001   \n",
       "86137   i extended deal 559947 (pool sale) thru the 31...    germany-c  2001   \n",
       "62219   forwarded by mike mcconnell/hou/ect on 08/02/2...  mcconnell-m  2000   \n",
       "362626  forwarded by don miller/hou/ect on 09/28/2000 ...     rogers-b  2000   \n",
       "\n",
       "        Month                                   sentiment scores  \n",
       "119838      7  {'neg': 0.0, 'neu': 1.0, 'pos': 0.0, 'compound...  \n",
       "104199      5  {'neg': 0.029, 'neu': 0.906, 'pos': 0.065, 'co...  \n",
       "86137       1  {'neg': 0.0, 'neu': 1.0, 'pos': 0.0, 'compound...  \n",
       "62219       8  {'neg': 0.0, 'neu': 1.0, 'pos': 0.0, 'compound...  \n",
       "362626      9  {'neg': 0.0, 'neu': 0.932, 'pos': 0.068, 'comp...  "
      ]
     },
     "execution_count": 10,
     "metadata": {},
     "output_type": "execute_result"
    }
   ],
   "source": [
    "df['sentiment scores'] = [analyzer.polarity_scores(message) for message in text]\n",
    "df.sample(5)"
   ]
  },
  {
   "cell_type": "code",
   "execution_count": 11,
   "metadata": {},
   "outputs": [],
   "source": [
    "#split based on time\n",
    "df['Date'] = pd.to_datetime(df['Date'])\n",
    "#choose a time\n",
    "split_year=1999\n",
    "split_month=1\n",
    "\n",
    "time1_data=df[(df[\"Year\"]<split_year)|((df['Year']==split_year) & (df[\"Month\"]<split_month))]\n",
    "time2_data=df[(df[\"Year\"]>split_year)|((df['Year']==split_year) & (df[\"Month\"]>=split_month))]\n"
   ]
  },
  {
   "cell_type": "code",
   "execution_count": 12,
   "metadata": {},
   "outputs": [
    {
     "data": {
      "text/html": [
       "<div>\n",
       "<style scoped>\n",
       "    .dataframe tbody tr th:only-of-type {\n",
       "        vertical-align: middle;\n",
       "    }\n",
       "\n",
       "    .dataframe tbody tr th {\n",
       "        vertical-align: top;\n",
       "    }\n",
       "\n",
       "    .dataframe thead th {\n",
       "        text-align: right;\n",
       "    }\n",
       "</style>\n",
       "<table border=\"1\" class=\"dataframe\">\n",
       "  <thead>\n",
       "    <tr style=\"text-align: right;\">\n",
       "      <th></th>\n",
       "      <th>Date</th>\n",
       "      <th>From</th>\n",
       "      <th>To</th>\n",
       "      <th>Subject</th>\n",
       "      <th>X-From</th>\n",
       "      <th>X-To</th>\n",
       "      <th>X-Folder</th>\n",
       "      <th>Folder</th>\n",
       "      <th>X-Origin</th>\n",
       "      <th>X-Filename</th>\n",
       "      <th>Content</th>\n",
       "      <th>Employee</th>\n",
       "      <th>Year</th>\n",
       "      <th>Month</th>\n",
       "      <th>sentiment scores</th>\n",
       "    </tr>\n",
       "  </thead>\n",
       "  <tbody>\n",
       "    <tr>\n",
       "      <th>225513</th>\n",
       "      <td>1980-01-01 00:00:00+00:00</td>\n",
       "      <td>barry.tycholiz@enron.com</td>\n",
       "      <td>fred.lagastra@enron.com</td>\n",
       "      <td>Whispering Pines -</td>\n",
       "      <td>Barry Tycholiz</td>\n",
       "      <td>Fred lagastra</td>\n",
       "      <td>\\Barry_Tycholiz_Nov2001\\Notes Folders\\All docu...</td>\n",
       "      <td>all documents</td>\n",
       "      <td>TYCHOLIZ-B</td>\n",
       "      <td>btychol.nsf</td>\n",
       "      <td>fred, sorry, i am going to cancel out on you t...</td>\n",
       "      <td>tycholiz-b</td>\n",
       "      <td>1980</td>\n",
       "      <td>1</td>\n",
       "      <td>{'neg': 0.065, 'neu': 0.803, 'pos': 0.133, 'co...</td>\n",
       "    </tr>\n",
       "    <tr>\n",
       "      <th>125173</th>\n",
       "      <td>1980-01-01 00:00:00+00:00</td>\n",
       "      <td>daren.farmer@enron.com</td>\n",
       "      <td>sally.beck@enron.com</td>\n",
       "      <td>Thanks.</td>\n",
       "      <td>Daren J Farmer</td>\n",
       "      <td>Sally Beck</td>\n",
       "      <td>\\Darren_Farmer_Dec2000\\Notes Folders\\All docum...</td>\n",
       "      <td>all documents</td>\n",
       "      <td>Farmer-D</td>\n",
       "      <td>dfarmer.nsf</td>\n",
       "      <td>sally, i wanted to thank you for the tickets t...</td>\n",
       "      <td>farmer-d</td>\n",
       "      <td>1980</td>\n",
       "      <td>1</td>\n",
       "      <td>{'neg': 0.0, 'neu': 0.845, 'pos': 0.155, 'comp...</td>\n",
       "    </tr>\n",
       "    <tr>\n",
       "      <th>194076</th>\n",
       "      <td>1998-11-19 18:58:00+00:00</td>\n",
       "      <td>mark.taylor@enron.com</td>\n",
       "      <td>anita.fam@enron.com</td>\n",
       "      <td>LNG hedging for China</td>\n",
       "      <td>Mark ECT Legal Taylor</td>\n",
       "      <td>Anita Fam</td>\n",
       "      <td>\\Mark_Taylor _Dec_2000\\Notes Folders\\Sent</td>\n",
       "      <td>sent</td>\n",
       "      <td>Taylor-M</td>\n",
       "      <td>mtaylor.nsf</td>\n",
       "      <td>anita: i seem to remember that our traders in ...</td>\n",
       "      <td>taylor-m</td>\n",
       "      <td>1998</td>\n",
       "      <td>11</td>\n",
       "      <td>{'neg': 0.033, 'neu': 0.865, 'pos': 0.102, 'co...</td>\n",
       "    </tr>\n",
       "    <tr>\n",
       "      <th>195540</th>\n",
       "      <td>1998-11-19 15:19:00+00:00</td>\n",
       "      <td>mark.taylor@enron.com</td>\n",
       "      <td>michelle.cash@enron.com</td>\n",
       "      <td>Indemnification</td>\n",
       "      <td>Mark ECT Legal Taylor</td>\n",
       "      <td>Michelle Cash</td>\n",
       "      <td>\\Mark_Taylor _Dec_2000\\Notes Folders\\All docum...</td>\n",
       "      <td>all documents</td>\n",
       "      <td>Taylor-M</td>\n",
       "      <td>mtaylor.nsf</td>\n",
       "      <td>forwarded by mark ect legal taylor/hou/ect on ...</td>\n",
       "      <td>taylor-m</td>\n",
       "      <td>1998</td>\n",
       "      <td>11</td>\n",
       "      <td>{'neg': 0.011, 'neu': 0.855, 'pos': 0.134, 'co...</td>\n",
       "    </tr>\n",
       "    <tr>\n",
       "      <th>74020</th>\n",
       "      <td>1980-01-01 00:00:00+00:00</td>\n",
       "      <td>kay.chapman@enron.com</td>\n",
       "      <td>david.w.delainey@enron.com, lavorato@enron.com...</td>\n",
       "      <td>2000 ENA Vegas Offsite</td>\n",
       "      <td>Kay Chapman</td>\n",
       "      <td>david w delainey</td>\n",
       "      <td>\\David_Delainey_Dec2000\\Notes Folders\\All docu...</td>\n",
       "      <td>all documents</td>\n",
       "      <td>Delainey-D</td>\n",
       "      <td>ddelain.nsf</td>\n",
       "      <td>attached please find the invitation for the la...</td>\n",
       "      <td>delainey-d</td>\n",
       "      <td>1980</td>\n",
       "      <td>1</td>\n",
       "      <td>{'neg': 0.0, 'neu': 0.853, 'pos': 0.147, 'comp...</td>\n",
       "    </tr>\n",
       "  </tbody>\n",
       "</table>\n",
       "</div>"
      ],
      "text/plain": [
       "                            Date                      From  \\\n",
       "225513 1980-01-01 00:00:00+00:00  barry.tycholiz@enron.com   \n",
       "125173 1980-01-01 00:00:00+00:00    daren.farmer@enron.com   \n",
       "194076 1998-11-19 18:58:00+00:00     mark.taylor@enron.com   \n",
       "195540 1998-11-19 15:19:00+00:00     mark.taylor@enron.com   \n",
       "74020  1980-01-01 00:00:00+00:00     kay.chapman@enron.com   \n",
       "\n",
       "                                                       To  \\\n",
       "225513                            fred.lagastra@enron.com   \n",
       "125173                               sally.beck@enron.com   \n",
       "194076                                anita.fam@enron.com   \n",
       "195540                            michelle.cash@enron.com   \n",
       "74020   david.w.delainey@enron.com, lavorato@enron.com...   \n",
       "\n",
       "                       Subject                 X-From              X-To  \\\n",
       "225513      Whispering Pines -         Barry Tycholiz     Fred lagastra   \n",
       "125173                 Thanks.         Daren J Farmer        Sally Beck   \n",
       "194076   LNG hedging for China  Mark ECT Legal Taylor         Anita Fam   \n",
       "195540         Indemnification  Mark ECT Legal Taylor     Michelle Cash   \n",
       "74020   2000 ENA Vegas Offsite            Kay Chapman  david w delainey   \n",
       "\n",
       "                                                 X-Folder         Folder  \\\n",
       "225513  \\Barry_Tycholiz_Nov2001\\Notes Folders\\All docu...  all documents   \n",
       "125173  \\Darren_Farmer_Dec2000\\Notes Folders\\All docum...  all documents   \n",
       "194076          \\Mark_Taylor _Dec_2000\\Notes Folders\\Sent           sent   \n",
       "195540  \\Mark_Taylor _Dec_2000\\Notes Folders\\All docum...  all documents   \n",
       "74020   \\David_Delainey_Dec2000\\Notes Folders\\All docu...  all documents   \n",
       "\n",
       "          X-Origin   X-Filename  \\\n",
       "225513  TYCHOLIZ-B  btychol.nsf   \n",
       "125173    Farmer-D  dfarmer.nsf   \n",
       "194076    Taylor-M  mtaylor.nsf   \n",
       "195540    Taylor-M  mtaylor.nsf   \n",
       "74020   Delainey-D  ddelain.nsf   \n",
       "\n",
       "                                                  Content    Employee  Year  \\\n",
       "225513  fred, sorry, i am going to cancel out on you t...  tycholiz-b  1980   \n",
       "125173  sally, i wanted to thank you for the tickets t...    farmer-d  1980   \n",
       "194076  anita: i seem to remember that our traders in ...    taylor-m  1998   \n",
       "195540  forwarded by mark ect legal taylor/hou/ect on ...    taylor-m  1998   \n",
       "74020   attached please find the invitation for the la...  delainey-d  1980   \n",
       "\n",
       "        Month                                   sentiment scores  \n",
       "225513      1  {'neg': 0.065, 'neu': 0.803, 'pos': 0.133, 'co...  \n",
       "125173      1  {'neg': 0.0, 'neu': 0.845, 'pos': 0.155, 'comp...  \n",
       "194076     11  {'neg': 0.033, 'neu': 0.865, 'pos': 0.102, 'co...  \n",
       "195540     11  {'neg': 0.011, 'neu': 0.855, 'pos': 0.134, 'co...  \n",
       "74020       1  {'neg': 0.0, 'neu': 0.853, 'pos': 0.147, 'comp...  "
      ]
     },
     "execution_count": 12,
     "metadata": {},
     "output_type": "execute_result"
    }
   ],
   "source": [
    "time1_data.sample(5)\n"
   ]
  },
  {
   "cell_type": "code",
   "execution_count": 13,
   "metadata": {},
   "outputs": [
    {
     "data": {
      "text/html": [
       "<div>\n",
       "<style scoped>\n",
       "    .dataframe tbody tr th:only-of-type {\n",
       "        vertical-align: middle;\n",
       "    }\n",
       "\n",
       "    .dataframe tbody tr th {\n",
       "        vertical-align: top;\n",
       "    }\n",
       "\n",
       "    .dataframe thead th {\n",
       "        text-align: right;\n",
       "    }\n",
       "</style>\n",
       "<table border=\"1\" class=\"dataframe\">\n",
       "  <thead>\n",
       "    <tr style=\"text-align: right;\">\n",
       "      <th></th>\n",
       "      <th>Date</th>\n",
       "      <th>From</th>\n",
       "      <th>To</th>\n",
       "      <th>Subject</th>\n",
       "      <th>X-From</th>\n",
       "      <th>X-To</th>\n",
       "      <th>X-Folder</th>\n",
       "      <th>Folder</th>\n",
       "      <th>X-Origin</th>\n",
       "      <th>X-Filename</th>\n",
       "      <th>Content</th>\n",
       "      <th>Employee</th>\n",
       "      <th>Year</th>\n",
       "      <th>Month</th>\n",
       "      <th>sentiment scores</th>\n",
       "    </tr>\n",
       "  </thead>\n",
       "  <tbody>\n",
       "    <tr>\n",
       "      <th>79272</th>\n",
       "      <td>2000-03-17 08:58:00+00:00</td>\n",
       "      <td>chris.germany@enron.com</td>\n",
       "      <td>angie.zeman@enron.com, molly.lafuze@enron.com,...</td>\n",
       "      <td>CNG Exchange deal</td>\n",
       "      <td>Chris Germany</td>\n",
       "      <td>Angie Zeman Molly LaFuze Dana Daigle David Oli...</td>\n",
       "      <td>\\Chris_Germany_Dec2000\\Notes Folders\\Sent</td>\n",
       "      <td>sent</td>\n",
       "      <td>Germany-C</td>\n",
       "      <td>cgerman.nsf</td>\n",
       "      <td>as you all know i'm handicapped and its not be...</td>\n",
       "      <td>germany-c</td>\n",
       "      <td>2000</td>\n",
       "      <td>3</td>\n",
       "      <td>{'neg': 0.023, 'neu': 0.891, 'pos': 0.086, 'co...</td>\n",
       "    </tr>\n",
       "    <tr>\n",
       "      <th>338161</th>\n",
       "      <td>2001-10-22 20:52:12+00:00</td>\n",
       "      <td>jim.meyn@enron.com</td>\n",
       "      <td>terri.clynes@enron.com, doug.sewell@enron.com,...</td>\n",
       "      <td>SWECI Pricing</td>\n",
       "      <td>Meyn Jim</td>\n",
       "      <td>Clynes Terri</td>\n",
       "      <td>\\FSTURM (Non-Privileged)\\Sturm, Fletcher J.\\Inbox</td>\n",
       "      <td>inbox</td>\n",
       "      <td>STURM-F</td>\n",
       "      <td>FSTURM (Non-Privileged).pst</td>\n",
       "      <td>terri, spoke with fletch on the sweci pricing ...</td>\n",
       "      <td>sturm-f</td>\n",
       "      <td>2001</td>\n",
       "      <td>10</td>\n",
       "      <td>{'neg': 0.026, 'neu': 0.874, 'pos': 0.1, 'comp...</td>\n",
       "    </tr>\n",
       "    <tr>\n",
       "      <th>482515</th>\n",
       "      <td>2001-05-14 15:45:00+00:00</td>\n",
       "      <td>fran.chang@enron.com</td>\n",
       "      <td>anne.bike@enron.com, gasfundy@enron.com, matth...</td>\n",
       "      <td>west prices 05-14-2001</td>\n",
       "      <td>Fran Chang</td>\n",
       "      <td>Anne Bike GASFUNDY Matthew Lenhart Maria Van h...</td>\n",
       "      <td>\\Matthew_Lenhart_Jun2001\\Notes Folders\\Notes i...</td>\n",
       "      <td>notes inbox</td>\n",
       "      <td>Lenhart-M</td>\n",
       "      <td>mlenhar.nsf</td>\n",
       "      <td>please let me know if you have any questions. ...</td>\n",
       "      <td>lenhart-m</td>\n",
       "      <td>2001</td>\n",
       "      <td>5</td>\n",
       "      <td>{'neg': 0.0, 'neu': 0.658, 'pos': 0.342, 'comp...</td>\n",
       "    </tr>\n",
       "    <tr>\n",
       "      <th>219387</th>\n",
       "      <td>2000-08-11 11:37:00+00:00</td>\n",
       "      <td>sally.beck@enron.com</td>\n",
       "      <td>cwhite@viviance.com</td>\n",
       "      <td>Re: slumber party</td>\n",
       "      <td>Sally Beck</td>\n",
       "      <td>Cindy White</td>\n",
       "      <td>\\Sally_Beck_Dec2000\\Notes Folders\\'sent mail</td>\n",
       "      <td>'sent mail</td>\n",
       "      <td>Beck-S</td>\n",
       "      <td>sbeck.nsf</td>\n",
       "      <td>that was always one of my favorites! the old p...</td>\n",
       "      <td>beck-s</td>\n",
       "      <td>2000</td>\n",
       "      <td>8</td>\n",
       "      <td>{'neg': 0.029, 'neu': 0.809, 'pos': 0.162, 'co...</td>\n",
       "    </tr>\n",
       "    <tr>\n",
       "      <th>408376</th>\n",
       "      <td>2001-04-24 14:52:00+00:00</td>\n",
       "      <td>cara.semperger@enron.com</td>\n",
       "      <td>portland.shift@enron.com</td>\n",
       "      <td>Schedule cut at COB to run real time-for 4/25 LLH</td>\n",
       "      <td>Cara Semperger</td>\n",
       "      <td>Portland Shift</td>\n",
       "      <td>\\eric linder 6-28-02\\Notes Folders\\Notes inbox</td>\n",
       "      <td>notes inbox</td>\n",
       "      <td>LINDER-E</td>\n",
       "      <td>eric linder 6-28-02.nsf</td>\n",
       "      <td>forwarded by cara semperger/pdx/ect on 04/24/2...</td>\n",
       "      <td>linder-e</td>\n",
       "      <td>2001</td>\n",
       "      <td>4</td>\n",
       "      <td>{'neg': 0.063, 'neu': 0.873, 'pos': 0.064, 'co...</td>\n",
       "    </tr>\n",
       "  </tbody>\n",
       "</table>\n",
       "</div>"
      ],
      "text/plain": [
       "                            Date                      From  \\\n",
       "79272  2000-03-17 08:58:00+00:00   chris.germany@enron.com   \n",
       "338161 2001-10-22 20:52:12+00:00        jim.meyn@enron.com   \n",
       "482515 2001-05-14 15:45:00+00:00      fran.chang@enron.com   \n",
       "219387 2000-08-11 11:37:00+00:00      sally.beck@enron.com   \n",
       "408376 2001-04-24 14:52:00+00:00  cara.semperger@enron.com   \n",
       "\n",
       "                                                       To  \\\n",
       "79272   angie.zeman@enron.com, molly.lafuze@enron.com,...   \n",
       "338161  terri.clynes@enron.com, doug.sewell@enron.com,...   \n",
       "482515  anne.bike@enron.com, gasfundy@enron.com, matth...   \n",
       "219387                                cwhite@viviance.com   \n",
       "408376                           portland.shift@enron.com   \n",
       "\n",
       "                                                  Subject          X-From  \\\n",
       "79272                                   CNG Exchange deal   Chris Germany   \n",
       "338161                                      SWECI Pricing        Meyn Jim   \n",
       "482515                             west prices 05-14-2001      Fran Chang   \n",
       "219387                                  Re: slumber party      Sally Beck   \n",
       "408376  Schedule cut at COB to run real time-for 4/25 LLH  Cara Semperger   \n",
       "\n",
       "                                                     X-To  \\\n",
       "79272   Angie Zeman Molly LaFuze Dana Daigle David Oli...   \n",
       "338161                                       Clynes Terri   \n",
       "482515  Anne Bike GASFUNDY Matthew Lenhart Maria Van h...   \n",
       "219387                                        Cindy White   \n",
       "408376                                     Portland Shift   \n",
       "\n",
       "                                                 X-Folder       Folder  \\\n",
       "79272           \\Chris_Germany_Dec2000\\Notes Folders\\Sent         sent   \n",
       "338161  \\FSTURM (Non-Privileged)\\Sturm, Fletcher J.\\Inbox        inbox   \n",
       "482515  \\Matthew_Lenhart_Jun2001\\Notes Folders\\Notes i...  notes inbox   \n",
       "219387       \\Sally_Beck_Dec2000\\Notes Folders\\'sent mail   'sent mail   \n",
       "408376     \\eric linder 6-28-02\\Notes Folders\\Notes inbox  notes inbox   \n",
       "\n",
       "         X-Origin                   X-Filename  \\\n",
       "79272   Germany-C                  cgerman.nsf   \n",
       "338161    STURM-F  FSTURM (Non-Privileged).pst   \n",
       "482515  Lenhart-M                  mlenhar.nsf   \n",
       "219387     Beck-S                    sbeck.nsf   \n",
       "408376   LINDER-E      eric linder 6-28-02.nsf   \n",
       "\n",
       "                                                  Content   Employee  Year  \\\n",
       "79272   as you all know i'm handicapped and its not be...  germany-c  2000   \n",
       "338161  terri, spoke with fletch on the sweci pricing ...    sturm-f  2001   \n",
       "482515  please let me know if you have any questions. ...  lenhart-m  2001   \n",
       "219387  that was always one of my favorites! the old p...     beck-s  2000   \n",
       "408376  forwarded by cara semperger/pdx/ect on 04/24/2...   linder-e  2001   \n",
       "\n",
       "        Month                                   sentiment scores  \n",
       "79272       3  {'neg': 0.023, 'neu': 0.891, 'pos': 0.086, 'co...  \n",
       "338161     10  {'neg': 0.026, 'neu': 0.874, 'pos': 0.1, 'comp...  \n",
       "482515      5  {'neg': 0.0, 'neu': 0.658, 'pos': 0.342, 'comp...  \n",
       "219387      8  {'neg': 0.029, 'neu': 0.809, 'pos': 0.162, 'co...  \n",
       "408376      4  {'neg': 0.063, 'neu': 0.873, 'pos': 0.064, 'co...  "
      ]
     },
     "execution_count": 13,
     "metadata": {},
     "output_type": "execute_result"
    }
   ],
   "source": [
    "time2_data.sample(5)"
   ]
  },
  {
   "cell_type": "code",
   "execution_count": 14,
   "metadata": {},
   "outputs": [],
   "source": [
    "# Determine the positive and negative scores\n",
    "def determine_sentiment(data):\n",
    "    sentiment = []\n",
    "    for i in data['sentiment scores'].values:\n",
    "        if i['compound'] > 0.05:\n",
    "            sentiment.append('Positive')\n",
    "        elif i['compound'] < 0.05:\n",
    "            sentiment.append('Negative')\n",
    "        else:\n",
    "            sentiment.append('Neutral')\n",
    "    data['Sentiment'] = sentiment\n",
    "    return data"
   ]
  },
  {
   "cell_type": "code",
   "execution_count": 15,
   "metadata": {},
   "outputs": [
    {
     "name": "stderr",
     "output_type": "stream",
     "text": [
      "C:\\Users\\HP'\\AppData\\Local\\Temp\\ipykernel_36812\\1645305737.py:11: SettingWithCopyWarning: \n",
      "A value is trying to be set on a copy of a slice from a DataFrame.\n",
      "Try using .loc[row_indexer,col_indexer] = value instead\n",
      "\n",
      "See the caveats in the documentation: https://pandas.pydata.org/pandas-docs/stable/user_guide/indexing.html#returning-a-view-versus-a-copy\n",
      "  data['Sentiment'] = sentiment\n",
      "C:\\Users\\HP'\\AppData\\Local\\Temp\\ipykernel_36812\\1645305737.py:11: SettingWithCopyWarning: \n",
      "A value is trying to be set on a copy of a slice from a DataFrame.\n",
      "Try using .loc[row_indexer,col_indexer] = value instead\n",
      "\n",
      "See the caveats in the documentation: https://pandas.pydata.org/pandas-docs/stable/user_guide/indexing.html#returning-a-view-versus-a-copy\n",
      "  data['Sentiment'] = sentiment\n"
     ]
    }
   ],
   "source": [
    "time1_data=determine_sentiment(time1_data)\n",
    "time2_data=determine_sentiment(time2_data)"
   ]
  },
  {
   "cell_type": "code",
   "execution_count": 16,
   "metadata": {},
   "outputs": [
    {
     "name": "stdout",
     "output_type": "stream",
     "text": [
      "Sentiment values for time1:\n",
      "Sentiment\n",
      "Positive    368\n",
      "Negative    117\n",
      "Name: count, dtype: int64\n",
      "\n",
      "Sentiment values for time2:\n",
      "Sentiment\n",
      "Positive    408514\n",
      "Negative     86546\n",
      "Neutral          2\n",
      "Name: count, dtype: int64\n"
     ]
    }
   ],
   "source": [
    "sentiment_values_time1 = time1_data['Sentiment'].value_counts()\n",
    "sentiment_values_time1.columns = ['Sentiment', 'Count']\n",
    "sentiment_values_time2 = time2_data['Sentiment'].value_counts()\n",
    "sentiment_values_time2.columns = ['Sentiment', 'Count']\n",
    "#print\n",
    "print(\"Sentiment values for time1:\")\n",
    "print(sentiment_values_time1)\n",
    "\n",
    "print(\"\\nSentiment values for time2:\")\n",
    "print(sentiment_values_time2)"
   ]
  },
  {
   "cell_type": "code",
   "execution_count": 17,
   "metadata": {},
   "outputs": [],
   "source": [
    "import plotly.express as px"
   ]
  },
  {
   "cell_type": "code",
   "execution_count": 18,
   "metadata": {},
   "outputs": [
    {
     "data": {
      "application/vnd.plotly.v1+json": {
       "config": {
        "plotlyServerURL": "https://plot.ly"
       },
       "data": [
        {
         "hovertemplate": "variable=count<br>value=%{x}<br>Sentiment=%{y}<extra></extra>",
         "legendgroup": "count",
         "marker": {
          "color": "#636efa"
         },
         "name": "count",
         "orientation": "h",
         "showlegend": true,
         "type": "funnel",
         "x": [
          368,
          117
         ],
         "xaxis": "x",
         "y": [
          "Positive",
          "Negative"
         ],
         "yaxis": "y"
        }
       ],
       "layout": {
        "legend": {
         "title": {
          "text": "variable"
         },
         "tracegroupgap": 0
        },
        "template": {
         "data": {
          "bar": [
           {
            "error_x": {
             "color": "#2a3f5f"
            },
            "error_y": {
             "color": "#2a3f5f"
            },
            "marker": {
             "line": {
              "color": "#E5ECF6",
              "width": 0.5
             },
             "pattern": {
              "fillmode": "overlay",
              "size": 10,
              "solidity": 0.2
             }
            },
            "type": "bar"
           }
          ],
          "barpolar": [
           {
            "marker": {
             "line": {
              "color": "#E5ECF6",
              "width": 0.5
             },
             "pattern": {
              "fillmode": "overlay",
              "size": 10,
              "solidity": 0.2
             }
            },
            "type": "barpolar"
           }
          ],
          "carpet": [
           {
            "aaxis": {
             "endlinecolor": "#2a3f5f",
             "gridcolor": "white",
             "linecolor": "white",
             "minorgridcolor": "white",
             "startlinecolor": "#2a3f5f"
            },
            "baxis": {
             "endlinecolor": "#2a3f5f",
             "gridcolor": "white",
             "linecolor": "white",
             "minorgridcolor": "white",
             "startlinecolor": "#2a3f5f"
            },
            "type": "carpet"
           }
          ],
          "choropleth": [
           {
            "colorbar": {
             "outlinewidth": 0,
             "ticks": ""
            },
            "type": "choropleth"
           }
          ],
          "contour": [
           {
            "colorbar": {
             "outlinewidth": 0,
             "ticks": ""
            },
            "colorscale": [
             [
              0,
              "#0d0887"
             ],
             [
              0.1111111111111111,
              "#46039f"
             ],
             [
              0.2222222222222222,
              "#7201a8"
             ],
             [
              0.3333333333333333,
              "#9c179e"
             ],
             [
              0.4444444444444444,
              "#bd3786"
             ],
             [
              0.5555555555555556,
              "#d8576b"
             ],
             [
              0.6666666666666666,
              "#ed7953"
             ],
             [
              0.7777777777777778,
              "#fb9f3a"
             ],
             [
              0.8888888888888888,
              "#fdca26"
             ],
             [
              1,
              "#f0f921"
             ]
            ],
            "type": "contour"
           }
          ],
          "contourcarpet": [
           {
            "colorbar": {
             "outlinewidth": 0,
             "ticks": ""
            },
            "type": "contourcarpet"
           }
          ],
          "heatmap": [
           {
            "colorbar": {
             "outlinewidth": 0,
             "ticks": ""
            },
            "colorscale": [
             [
              0,
              "#0d0887"
             ],
             [
              0.1111111111111111,
              "#46039f"
             ],
             [
              0.2222222222222222,
              "#7201a8"
             ],
             [
              0.3333333333333333,
              "#9c179e"
             ],
             [
              0.4444444444444444,
              "#bd3786"
             ],
             [
              0.5555555555555556,
              "#d8576b"
             ],
             [
              0.6666666666666666,
              "#ed7953"
             ],
             [
              0.7777777777777778,
              "#fb9f3a"
             ],
             [
              0.8888888888888888,
              "#fdca26"
             ],
             [
              1,
              "#f0f921"
             ]
            ],
            "type": "heatmap"
           }
          ],
          "heatmapgl": [
           {
            "colorbar": {
             "outlinewidth": 0,
             "ticks": ""
            },
            "colorscale": [
             [
              0,
              "#0d0887"
             ],
             [
              0.1111111111111111,
              "#46039f"
             ],
             [
              0.2222222222222222,
              "#7201a8"
             ],
             [
              0.3333333333333333,
              "#9c179e"
             ],
             [
              0.4444444444444444,
              "#bd3786"
             ],
             [
              0.5555555555555556,
              "#d8576b"
             ],
             [
              0.6666666666666666,
              "#ed7953"
             ],
             [
              0.7777777777777778,
              "#fb9f3a"
             ],
             [
              0.8888888888888888,
              "#fdca26"
             ],
             [
              1,
              "#f0f921"
             ]
            ],
            "type": "heatmapgl"
           }
          ],
          "histogram": [
           {
            "marker": {
             "pattern": {
              "fillmode": "overlay",
              "size": 10,
              "solidity": 0.2
             }
            },
            "type": "histogram"
           }
          ],
          "histogram2d": [
           {
            "colorbar": {
             "outlinewidth": 0,
             "ticks": ""
            },
            "colorscale": [
             [
              0,
              "#0d0887"
             ],
             [
              0.1111111111111111,
              "#46039f"
             ],
             [
              0.2222222222222222,
              "#7201a8"
             ],
             [
              0.3333333333333333,
              "#9c179e"
             ],
             [
              0.4444444444444444,
              "#bd3786"
             ],
             [
              0.5555555555555556,
              "#d8576b"
             ],
             [
              0.6666666666666666,
              "#ed7953"
             ],
             [
              0.7777777777777778,
              "#fb9f3a"
             ],
             [
              0.8888888888888888,
              "#fdca26"
             ],
             [
              1,
              "#f0f921"
             ]
            ],
            "type": "histogram2d"
           }
          ],
          "histogram2dcontour": [
           {
            "colorbar": {
             "outlinewidth": 0,
             "ticks": ""
            },
            "colorscale": [
             [
              0,
              "#0d0887"
             ],
             [
              0.1111111111111111,
              "#46039f"
             ],
             [
              0.2222222222222222,
              "#7201a8"
             ],
             [
              0.3333333333333333,
              "#9c179e"
             ],
             [
              0.4444444444444444,
              "#bd3786"
             ],
             [
              0.5555555555555556,
              "#d8576b"
             ],
             [
              0.6666666666666666,
              "#ed7953"
             ],
             [
              0.7777777777777778,
              "#fb9f3a"
             ],
             [
              0.8888888888888888,
              "#fdca26"
             ],
             [
              1,
              "#f0f921"
             ]
            ],
            "type": "histogram2dcontour"
           }
          ],
          "mesh3d": [
           {
            "colorbar": {
             "outlinewidth": 0,
             "ticks": ""
            },
            "type": "mesh3d"
           }
          ],
          "parcoords": [
           {
            "line": {
             "colorbar": {
              "outlinewidth": 0,
              "ticks": ""
             }
            },
            "type": "parcoords"
           }
          ],
          "pie": [
           {
            "automargin": true,
            "type": "pie"
           }
          ],
          "scatter": [
           {
            "fillpattern": {
             "fillmode": "overlay",
             "size": 10,
             "solidity": 0.2
            },
            "type": "scatter"
           }
          ],
          "scatter3d": [
           {
            "line": {
             "colorbar": {
              "outlinewidth": 0,
              "ticks": ""
             }
            },
            "marker": {
             "colorbar": {
              "outlinewidth": 0,
              "ticks": ""
             }
            },
            "type": "scatter3d"
           }
          ],
          "scattercarpet": [
           {
            "marker": {
             "colorbar": {
              "outlinewidth": 0,
              "ticks": ""
             }
            },
            "type": "scattercarpet"
           }
          ],
          "scattergeo": [
           {
            "marker": {
             "colorbar": {
              "outlinewidth": 0,
              "ticks": ""
             }
            },
            "type": "scattergeo"
           }
          ],
          "scattergl": [
           {
            "marker": {
             "colorbar": {
              "outlinewidth": 0,
              "ticks": ""
             }
            },
            "type": "scattergl"
           }
          ],
          "scattermapbox": [
           {
            "marker": {
             "colorbar": {
              "outlinewidth": 0,
              "ticks": ""
             }
            },
            "type": "scattermapbox"
           }
          ],
          "scatterpolar": [
           {
            "marker": {
             "colorbar": {
              "outlinewidth": 0,
              "ticks": ""
             }
            },
            "type": "scatterpolar"
           }
          ],
          "scatterpolargl": [
           {
            "marker": {
             "colorbar": {
              "outlinewidth": 0,
              "ticks": ""
             }
            },
            "type": "scatterpolargl"
           }
          ],
          "scatterternary": [
           {
            "marker": {
             "colorbar": {
              "outlinewidth": 0,
              "ticks": ""
             }
            },
            "type": "scatterternary"
           }
          ],
          "surface": [
           {
            "colorbar": {
             "outlinewidth": 0,
             "ticks": ""
            },
            "colorscale": [
             [
              0,
              "#0d0887"
             ],
             [
              0.1111111111111111,
              "#46039f"
             ],
             [
              0.2222222222222222,
              "#7201a8"
             ],
             [
              0.3333333333333333,
              "#9c179e"
             ],
             [
              0.4444444444444444,
              "#bd3786"
             ],
             [
              0.5555555555555556,
              "#d8576b"
             ],
             [
              0.6666666666666666,
              "#ed7953"
             ],
             [
              0.7777777777777778,
              "#fb9f3a"
             ],
             [
              0.8888888888888888,
              "#fdca26"
             ],
             [
              1,
              "#f0f921"
             ]
            ],
            "type": "surface"
           }
          ],
          "table": [
           {
            "cells": {
             "fill": {
              "color": "#EBF0F8"
             },
             "line": {
              "color": "white"
             }
            },
            "header": {
             "fill": {
              "color": "#C8D4E3"
             },
             "line": {
              "color": "white"
             }
            },
            "type": "table"
           }
          ]
         },
         "layout": {
          "annotationdefaults": {
           "arrowcolor": "#2a3f5f",
           "arrowhead": 0,
           "arrowwidth": 1
          },
          "autotypenumbers": "strict",
          "coloraxis": {
           "colorbar": {
            "outlinewidth": 0,
            "ticks": ""
           }
          },
          "colorscale": {
           "diverging": [
            [
             0,
             "#8e0152"
            ],
            [
             0.1,
             "#c51b7d"
            ],
            [
             0.2,
             "#de77ae"
            ],
            [
             0.3,
             "#f1b6da"
            ],
            [
             0.4,
             "#fde0ef"
            ],
            [
             0.5,
             "#f7f7f7"
            ],
            [
             0.6,
             "#e6f5d0"
            ],
            [
             0.7,
             "#b8e186"
            ],
            [
             0.8,
             "#7fbc41"
            ],
            [
             0.9,
             "#4d9221"
            ],
            [
             1,
             "#276419"
            ]
           ],
           "sequential": [
            [
             0,
             "#0d0887"
            ],
            [
             0.1111111111111111,
             "#46039f"
            ],
            [
             0.2222222222222222,
             "#7201a8"
            ],
            [
             0.3333333333333333,
             "#9c179e"
            ],
            [
             0.4444444444444444,
             "#bd3786"
            ],
            [
             0.5555555555555556,
             "#d8576b"
            ],
            [
             0.6666666666666666,
             "#ed7953"
            ],
            [
             0.7777777777777778,
             "#fb9f3a"
            ],
            [
             0.8888888888888888,
             "#fdca26"
            ],
            [
             1,
             "#f0f921"
            ]
           ],
           "sequentialminus": [
            [
             0,
             "#0d0887"
            ],
            [
             0.1111111111111111,
             "#46039f"
            ],
            [
             0.2222222222222222,
             "#7201a8"
            ],
            [
             0.3333333333333333,
             "#9c179e"
            ],
            [
             0.4444444444444444,
             "#bd3786"
            ],
            [
             0.5555555555555556,
             "#d8576b"
            ],
            [
             0.6666666666666666,
             "#ed7953"
            ],
            [
             0.7777777777777778,
             "#fb9f3a"
            ],
            [
             0.8888888888888888,
             "#fdca26"
            ],
            [
             1,
             "#f0f921"
            ]
           ]
          },
          "colorway": [
           "#636efa",
           "#EF553B",
           "#00cc96",
           "#ab63fa",
           "#FFA15A",
           "#19d3f3",
           "#FF6692",
           "#B6E880",
           "#FF97FF",
           "#FECB52"
          ],
          "font": {
           "color": "#2a3f5f"
          },
          "geo": {
           "bgcolor": "white",
           "lakecolor": "white",
           "landcolor": "#E5ECF6",
           "showlakes": true,
           "showland": true,
           "subunitcolor": "white"
          },
          "hoverlabel": {
           "align": "left"
          },
          "hovermode": "closest",
          "mapbox": {
           "style": "light"
          },
          "paper_bgcolor": "white",
          "plot_bgcolor": "#E5ECF6",
          "polar": {
           "angularaxis": {
            "gridcolor": "white",
            "linecolor": "white",
            "ticks": ""
           },
           "bgcolor": "#E5ECF6",
           "radialaxis": {
            "gridcolor": "white",
            "linecolor": "white",
            "ticks": ""
           }
          },
          "scene": {
           "xaxis": {
            "backgroundcolor": "#E5ECF6",
            "gridcolor": "white",
            "gridwidth": 2,
            "linecolor": "white",
            "showbackground": true,
            "ticks": "",
            "zerolinecolor": "white"
           },
           "yaxis": {
            "backgroundcolor": "#E5ECF6",
            "gridcolor": "white",
            "gridwidth": 2,
            "linecolor": "white",
            "showbackground": true,
            "ticks": "",
            "zerolinecolor": "white"
           },
           "zaxis": {
            "backgroundcolor": "#E5ECF6",
            "gridcolor": "white",
            "gridwidth": 2,
            "linecolor": "white",
            "showbackground": true,
            "ticks": "",
            "zerolinecolor": "white"
           }
          },
          "shapedefaults": {
           "line": {
            "color": "#2a3f5f"
           }
          },
          "ternary": {
           "aaxis": {
            "gridcolor": "white",
            "linecolor": "white",
            "ticks": ""
           },
           "baxis": {
            "gridcolor": "white",
            "linecolor": "white",
            "ticks": ""
           },
           "bgcolor": "#E5ECF6",
           "caxis": {
            "gridcolor": "white",
            "linecolor": "white",
            "ticks": ""
           }
          },
          "title": {
           "x": 0.05
          },
          "xaxis": {
           "automargin": true,
           "gridcolor": "white",
           "linecolor": "white",
           "ticks": "",
           "title": {
            "standoff": 15
           },
           "zerolinecolor": "white",
           "zerolinewidth": 2
          },
          "yaxis": {
           "automargin": true,
           "gridcolor": "white",
           "linecolor": "white",
           "ticks": "",
           "title": {
            "standoff": 15
           },
           "zerolinecolor": "white",
           "zerolinewidth": 2
          }
         }
        },
        "title": {
         "text": "Sentiment Funnel for Time1"
        },
        "xaxis": {
         "anchor": "y",
         "domain": [
          0,
          1
         ],
         "title": {
          "text": "value"
         }
        },
        "yaxis": {
         "anchor": "x",
         "domain": [
          0,
          1
         ],
         "title": {
          "text": "Sentiment"
         }
        }
       }
      }
     },
     "metadata": {},
     "output_type": "display_data"
    },
    {
     "data": {
      "application/vnd.plotly.v1+json": {
       "config": {
        "plotlyServerURL": "https://plot.ly"
       },
       "data": [
        {
         "hovertemplate": "variable=count<br>value=%{x}<br>Sentiment=%{y}<extra></extra>",
         "legendgroup": "count",
         "marker": {
          "color": "#636efa"
         },
         "name": "count",
         "orientation": "h",
         "showlegend": true,
         "type": "funnel",
         "x": [
          408514,
          86546,
          2
         ],
         "xaxis": "x",
         "y": [
          "Positive",
          "Negative",
          "Neutral"
         ],
         "yaxis": "y"
        }
       ],
       "layout": {
        "legend": {
         "title": {
          "text": "variable"
         },
         "tracegroupgap": 0
        },
        "template": {
         "data": {
          "bar": [
           {
            "error_x": {
             "color": "#2a3f5f"
            },
            "error_y": {
             "color": "#2a3f5f"
            },
            "marker": {
             "line": {
              "color": "#E5ECF6",
              "width": 0.5
             },
             "pattern": {
              "fillmode": "overlay",
              "size": 10,
              "solidity": 0.2
             }
            },
            "type": "bar"
           }
          ],
          "barpolar": [
           {
            "marker": {
             "line": {
              "color": "#E5ECF6",
              "width": 0.5
             },
             "pattern": {
              "fillmode": "overlay",
              "size": 10,
              "solidity": 0.2
             }
            },
            "type": "barpolar"
           }
          ],
          "carpet": [
           {
            "aaxis": {
             "endlinecolor": "#2a3f5f",
             "gridcolor": "white",
             "linecolor": "white",
             "minorgridcolor": "white",
             "startlinecolor": "#2a3f5f"
            },
            "baxis": {
             "endlinecolor": "#2a3f5f",
             "gridcolor": "white",
             "linecolor": "white",
             "minorgridcolor": "white",
             "startlinecolor": "#2a3f5f"
            },
            "type": "carpet"
           }
          ],
          "choropleth": [
           {
            "colorbar": {
             "outlinewidth": 0,
             "ticks": ""
            },
            "type": "choropleth"
           }
          ],
          "contour": [
           {
            "colorbar": {
             "outlinewidth": 0,
             "ticks": ""
            },
            "colorscale": [
             [
              0,
              "#0d0887"
             ],
             [
              0.1111111111111111,
              "#46039f"
             ],
             [
              0.2222222222222222,
              "#7201a8"
             ],
             [
              0.3333333333333333,
              "#9c179e"
             ],
             [
              0.4444444444444444,
              "#bd3786"
             ],
             [
              0.5555555555555556,
              "#d8576b"
             ],
             [
              0.6666666666666666,
              "#ed7953"
             ],
             [
              0.7777777777777778,
              "#fb9f3a"
             ],
             [
              0.8888888888888888,
              "#fdca26"
             ],
             [
              1,
              "#f0f921"
             ]
            ],
            "type": "contour"
           }
          ],
          "contourcarpet": [
           {
            "colorbar": {
             "outlinewidth": 0,
             "ticks": ""
            },
            "type": "contourcarpet"
           }
          ],
          "heatmap": [
           {
            "colorbar": {
             "outlinewidth": 0,
             "ticks": ""
            },
            "colorscale": [
             [
              0,
              "#0d0887"
             ],
             [
              0.1111111111111111,
              "#46039f"
             ],
             [
              0.2222222222222222,
              "#7201a8"
             ],
             [
              0.3333333333333333,
              "#9c179e"
             ],
             [
              0.4444444444444444,
              "#bd3786"
             ],
             [
              0.5555555555555556,
              "#d8576b"
             ],
             [
              0.6666666666666666,
              "#ed7953"
             ],
             [
              0.7777777777777778,
              "#fb9f3a"
             ],
             [
              0.8888888888888888,
              "#fdca26"
             ],
             [
              1,
              "#f0f921"
             ]
            ],
            "type": "heatmap"
           }
          ],
          "heatmapgl": [
           {
            "colorbar": {
             "outlinewidth": 0,
             "ticks": ""
            },
            "colorscale": [
             [
              0,
              "#0d0887"
             ],
             [
              0.1111111111111111,
              "#46039f"
             ],
             [
              0.2222222222222222,
              "#7201a8"
             ],
             [
              0.3333333333333333,
              "#9c179e"
             ],
             [
              0.4444444444444444,
              "#bd3786"
             ],
             [
              0.5555555555555556,
              "#d8576b"
             ],
             [
              0.6666666666666666,
              "#ed7953"
             ],
             [
              0.7777777777777778,
              "#fb9f3a"
             ],
             [
              0.8888888888888888,
              "#fdca26"
             ],
             [
              1,
              "#f0f921"
             ]
            ],
            "type": "heatmapgl"
           }
          ],
          "histogram": [
           {
            "marker": {
             "pattern": {
              "fillmode": "overlay",
              "size": 10,
              "solidity": 0.2
             }
            },
            "type": "histogram"
           }
          ],
          "histogram2d": [
           {
            "colorbar": {
             "outlinewidth": 0,
             "ticks": ""
            },
            "colorscale": [
             [
              0,
              "#0d0887"
             ],
             [
              0.1111111111111111,
              "#46039f"
             ],
             [
              0.2222222222222222,
              "#7201a8"
             ],
             [
              0.3333333333333333,
              "#9c179e"
             ],
             [
              0.4444444444444444,
              "#bd3786"
             ],
             [
              0.5555555555555556,
              "#d8576b"
             ],
             [
              0.6666666666666666,
              "#ed7953"
             ],
             [
              0.7777777777777778,
              "#fb9f3a"
             ],
             [
              0.8888888888888888,
              "#fdca26"
             ],
             [
              1,
              "#f0f921"
             ]
            ],
            "type": "histogram2d"
           }
          ],
          "histogram2dcontour": [
           {
            "colorbar": {
             "outlinewidth": 0,
             "ticks": ""
            },
            "colorscale": [
             [
              0,
              "#0d0887"
             ],
             [
              0.1111111111111111,
              "#46039f"
             ],
             [
              0.2222222222222222,
              "#7201a8"
             ],
             [
              0.3333333333333333,
              "#9c179e"
             ],
             [
              0.4444444444444444,
              "#bd3786"
             ],
             [
              0.5555555555555556,
              "#d8576b"
             ],
             [
              0.6666666666666666,
              "#ed7953"
             ],
             [
              0.7777777777777778,
              "#fb9f3a"
             ],
             [
              0.8888888888888888,
              "#fdca26"
             ],
             [
              1,
              "#f0f921"
             ]
            ],
            "type": "histogram2dcontour"
           }
          ],
          "mesh3d": [
           {
            "colorbar": {
             "outlinewidth": 0,
             "ticks": ""
            },
            "type": "mesh3d"
           }
          ],
          "parcoords": [
           {
            "line": {
             "colorbar": {
              "outlinewidth": 0,
              "ticks": ""
             }
            },
            "type": "parcoords"
           }
          ],
          "pie": [
           {
            "automargin": true,
            "type": "pie"
           }
          ],
          "scatter": [
           {
            "fillpattern": {
             "fillmode": "overlay",
             "size": 10,
             "solidity": 0.2
            },
            "type": "scatter"
           }
          ],
          "scatter3d": [
           {
            "line": {
             "colorbar": {
              "outlinewidth": 0,
              "ticks": ""
             }
            },
            "marker": {
             "colorbar": {
              "outlinewidth": 0,
              "ticks": ""
             }
            },
            "type": "scatter3d"
           }
          ],
          "scattercarpet": [
           {
            "marker": {
             "colorbar": {
              "outlinewidth": 0,
              "ticks": ""
             }
            },
            "type": "scattercarpet"
           }
          ],
          "scattergeo": [
           {
            "marker": {
             "colorbar": {
              "outlinewidth": 0,
              "ticks": ""
             }
            },
            "type": "scattergeo"
           }
          ],
          "scattergl": [
           {
            "marker": {
             "colorbar": {
              "outlinewidth": 0,
              "ticks": ""
             }
            },
            "type": "scattergl"
           }
          ],
          "scattermapbox": [
           {
            "marker": {
             "colorbar": {
              "outlinewidth": 0,
              "ticks": ""
             }
            },
            "type": "scattermapbox"
           }
          ],
          "scatterpolar": [
           {
            "marker": {
             "colorbar": {
              "outlinewidth": 0,
              "ticks": ""
             }
            },
            "type": "scatterpolar"
           }
          ],
          "scatterpolargl": [
           {
            "marker": {
             "colorbar": {
              "outlinewidth": 0,
              "ticks": ""
             }
            },
            "type": "scatterpolargl"
           }
          ],
          "scatterternary": [
           {
            "marker": {
             "colorbar": {
              "outlinewidth": 0,
              "ticks": ""
             }
            },
            "type": "scatterternary"
           }
          ],
          "surface": [
           {
            "colorbar": {
             "outlinewidth": 0,
             "ticks": ""
            },
            "colorscale": [
             [
              0,
              "#0d0887"
             ],
             [
              0.1111111111111111,
              "#46039f"
             ],
             [
              0.2222222222222222,
              "#7201a8"
             ],
             [
              0.3333333333333333,
              "#9c179e"
             ],
             [
              0.4444444444444444,
              "#bd3786"
             ],
             [
              0.5555555555555556,
              "#d8576b"
             ],
             [
              0.6666666666666666,
              "#ed7953"
             ],
             [
              0.7777777777777778,
              "#fb9f3a"
             ],
             [
              0.8888888888888888,
              "#fdca26"
             ],
             [
              1,
              "#f0f921"
             ]
            ],
            "type": "surface"
           }
          ],
          "table": [
           {
            "cells": {
             "fill": {
              "color": "#EBF0F8"
             },
             "line": {
              "color": "white"
             }
            },
            "header": {
             "fill": {
              "color": "#C8D4E3"
             },
             "line": {
              "color": "white"
             }
            },
            "type": "table"
           }
          ]
         },
         "layout": {
          "annotationdefaults": {
           "arrowcolor": "#2a3f5f",
           "arrowhead": 0,
           "arrowwidth": 1
          },
          "autotypenumbers": "strict",
          "coloraxis": {
           "colorbar": {
            "outlinewidth": 0,
            "ticks": ""
           }
          },
          "colorscale": {
           "diverging": [
            [
             0,
             "#8e0152"
            ],
            [
             0.1,
             "#c51b7d"
            ],
            [
             0.2,
             "#de77ae"
            ],
            [
             0.3,
             "#f1b6da"
            ],
            [
             0.4,
             "#fde0ef"
            ],
            [
             0.5,
             "#f7f7f7"
            ],
            [
             0.6,
             "#e6f5d0"
            ],
            [
             0.7,
             "#b8e186"
            ],
            [
             0.8,
             "#7fbc41"
            ],
            [
             0.9,
             "#4d9221"
            ],
            [
             1,
             "#276419"
            ]
           ],
           "sequential": [
            [
             0,
             "#0d0887"
            ],
            [
             0.1111111111111111,
             "#46039f"
            ],
            [
             0.2222222222222222,
             "#7201a8"
            ],
            [
             0.3333333333333333,
             "#9c179e"
            ],
            [
             0.4444444444444444,
             "#bd3786"
            ],
            [
             0.5555555555555556,
             "#d8576b"
            ],
            [
             0.6666666666666666,
             "#ed7953"
            ],
            [
             0.7777777777777778,
             "#fb9f3a"
            ],
            [
             0.8888888888888888,
             "#fdca26"
            ],
            [
             1,
             "#f0f921"
            ]
           ],
           "sequentialminus": [
            [
             0,
             "#0d0887"
            ],
            [
             0.1111111111111111,
             "#46039f"
            ],
            [
             0.2222222222222222,
             "#7201a8"
            ],
            [
             0.3333333333333333,
             "#9c179e"
            ],
            [
             0.4444444444444444,
             "#bd3786"
            ],
            [
             0.5555555555555556,
             "#d8576b"
            ],
            [
             0.6666666666666666,
             "#ed7953"
            ],
            [
             0.7777777777777778,
             "#fb9f3a"
            ],
            [
             0.8888888888888888,
             "#fdca26"
            ],
            [
             1,
             "#f0f921"
            ]
           ]
          },
          "colorway": [
           "#636efa",
           "#EF553B",
           "#00cc96",
           "#ab63fa",
           "#FFA15A",
           "#19d3f3",
           "#FF6692",
           "#B6E880",
           "#FF97FF",
           "#FECB52"
          ],
          "font": {
           "color": "#2a3f5f"
          },
          "geo": {
           "bgcolor": "white",
           "lakecolor": "white",
           "landcolor": "#E5ECF6",
           "showlakes": true,
           "showland": true,
           "subunitcolor": "white"
          },
          "hoverlabel": {
           "align": "left"
          },
          "hovermode": "closest",
          "mapbox": {
           "style": "light"
          },
          "paper_bgcolor": "white",
          "plot_bgcolor": "#E5ECF6",
          "polar": {
           "angularaxis": {
            "gridcolor": "white",
            "linecolor": "white",
            "ticks": ""
           },
           "bgcolor": "#E5ECF6",
           "radialaxis": {
            "gridcolor": "white",
            "linecolor": "white",
            "ticks": ""
           }
          },
          "scene": {
           "xaxis": {
            "backgroundcolor": "#E5ECF6",
            "gridcolor": "white",
            "gridwidth": 2,
            "linecolor": "white",
            "showbackground": true,
            "ticks": "",
            "zerolinecolor": "white"
           },
           "yaxis": {
            "backgroundcolor": "#E5ECF6",
            "gridcolor": "white",
            "gridwidth": 2,
            "linecolor": "white",
            "showbackground": true,
            "ticks": "",
            "zerolinecolor": "white"
           },
           "zaxis": {
            "backgroundcolor": "#E5ECF6",
            "gridcolor": "white",
            "gridwidth": 2,
            "linecolor": "white",
            "showbackground": true,
            "ticks": "",
            "zerolinecolor": "white"
           }
          },
          "shapedefaults": {
           "line": {
            "color": "#2a3f5f"
           }
          },
          "ternary": {
           "aaxis": {
            "gridcolor": "white",
            "linecolor": "white",
            "ticks": ""
           },
           "baxis": {
            "gridcolor": "white",
            "linecolor": "white",
            "ticks": ""
           },
           "bgcolor": "#E5ECF6",
           "caxis": {
            "gridcolor": "white",
            "linecolor": "white",
            "ticks": ""
           }
          },
          "title": {
           "x": 0.05
          },
          "xaxis": {
           "automargin": true,
           "gridcolor": "white",
           "linecolor": "white",
           "ticks": "",
           "title": {
            "standoff": 15
           },
           "zerolinecolor": "white",
           "zerolinewidth": 2
          },
          "yaxis": {
           "automargin": true,
           "gridcolor": "white",
           "linecolor": "white",
           "ticks": "",
           "title": {
            "standoff": 15
           },
           "zerolinecolor": "white",
           "zerolinewidth": 2
          }
         }
        },
        "title": {
         "text": "Sentiment Funnel for Time2"
        },
        "xaxis": {
         "anchor": "y",
         "domain": [
          0,
          1
         ],
         "title": {
          "text": "value"
         }
        },
        "yaxis": {
         "anchor": "x",
         "domain": [
          0,
          1
         ],
         "title": {
          "text": "Sentiment"
         }
        }
       }
      }
     },
     "metadata": {},
     "output_type": "display_data"
    }
   ],
   "source": [
    "\n",
    "# a graph for the sentiment as a funnel shaped graph\n",
    "fig_time1 = px.funnel(sentiment_values_time1, title='Sentiment Funnel for Time1')\n",
    "fig_time1.show()\n",
    "\n",
    "fig_time2 = px.funnel(sentiment_values_time2, title='Sentiment Funnel for Time2')\n",
    "fig_time2.show()\n"
   ]
  },
  {
   "cell_type": "code",
   "execution_count": 19,
   "metadata": {},
   "outputs": [],
   "source": [
    "#!pip install nltk==3.8.1"
   ]
  },
  {
   "cell_type": "code",
   "execution_count": 20,
   "metadata": {},
   "outputs": [],
   "source": [
    "import nltk\n"
   ]
  },
  {
   "cell_type": "code",
   "execution_count": 21,
   "metadata": {},
   "outputs": [
    {
     "name": "stderr",
     "output_type": "stream",
     "text": [
      "[nltk_data] Downloading package punkt to\n",
      "[nltk_data]     C:\\Users\\HP'\\AppData\\Roaming\\nltk_data...\n",
      "[nltk_data]   Package punkt is already up-to-date!\n",
      "[nltk_data] Downloading package wordnet to\n",
      "[nltk_data]     C:\\Users\\HP'\\AppData\\Roaming\\nltk_data...\n",
      "[nltk_data]   Package wordnet is already up-to-date!\n",
      "[nltk_data] Downloading package vader_lexicon to\n",
      "[nltk_data]     C:\\Users\\HP'\\AppData\\Roaming\\nltk_data...\n",
      "[nltk_data]   Package vader_lexicon is already up-to-date!\n",
      "[nltk_data] Downloading package stopwords to\n",
      "[nltk_data]     C:\\Users\\HP'\\AppData\\Roaming\\nltk_data...\n",
      "[nltk_data]   Package stopwords is already up-to-date!\n",
      "[nltk_data] Downloading package averaged_perceptron_tagger to\n",
      "[nltk_data]     C:\\Users\\HP'\\AppData\\Roaming\\nltk_data...\n",
      "[nltk_data]   Package averaged_perceptron_tagger is already up-to-\n",
      "[nltk_data]       date!\n"
     ]
    },
    {
     "data": {
      "text/plain": [
       "True"
      ]
     },
     "execution_count": 21,
     "metadata": {},
     "output_type": "execute_result"
    }
   ],
   "source": [
    "nltk.download('punkt')# split the sentence\n",
    "nltk.download('wordnet')#textblob\n",
    "nltk.download('vader_lexicon')  # VADER\n",
    "nltk.download('stopwords')\n",
    "nltk.download('averaged_perceptron_tagger') #lexical notation    "
   ]
  },
  {
   "cell_type": "code",
   "execution_count": 22,
   "metadata": {},
   "outputs": [],
   "source": [
    "from nrclex import NRCLex\n",
    "from textblob import TextBlob"
   ]
  },
  {
   "cell_type": "code",
   "execution_count": 23,
   "metadata": {},
   "outputs": [],
   "source": [
    "#!python -m textblob.download_corpora"
   ]
  },
  {
   "cell_type": "code",
   "execution_count": 24,
   "metadata": {},
   "outputs": [
    {
     "name": "stderr",
     "output_type": "stream",
     "text": [
      "C:\\Users\\HP'\\AppData\\Local\\Temp\\ipykernel_36812\\2320354431.py:1: SettingWithCopyWarning:\n",
      "\n",
      "\n",
      "A value is trying to be set on a copy of a slice from a DataFrame.\n",
      "Try using .loc[row_indexer,col_indexer] = value instead\n",
      "\n",
      "See the caveats in the documentation: https://pandas.pydata.org/pandas-docs/stable/user_guide/indexing.html#returning-a-view-versus-a-copy\n",
      "\n",
      "C:\\Users\\HP'\\AppData\\Local\\Temp\\ipykernel_36812\\2320354431.py:2: SettingWithCopyWarning:\n",
      "\n",
      "\n",
      "A value is trying to be set on a copy of a slice from a DataFrame.\n",
      "Try using .loc[row_indexer,col_indexer] = value instead\n",
      "\n",
      "See the caveats in the documentation: https://pandas.pydata.org/pandas-docs/stable/user_guide/indexing.html#returning-a-view-versus-a-copy\n",
      "\n"
     ]
    }
   ],
   "source": [
    "time1_data['Content'] = time1_data['Content'].astype(str)\n",
    "time2_data['Content'] = time2_data['Content'].astype(str)"
   ]
  },
  {
   "cell_type": "code",
   "execution_count": 25,
   "metadata": {},
   "outputs": [
    {
     "name": "stderr",
     "output_type": "stream",
     "text": [
      "C:\\Users\\HP'\\AppData\\Local\\Temp\\ipykernel_36812\\560689186.py:8: SettingWithCopyWarning:\n",
      "\n",
      "\n",
      "A value is trying to be set on a copy of a slice from a DataFrame.\n",
      "Try using .loc[row_indexer,col_indexer] = value instead\n",
      "\n",
      "See the caveats in the documentation: https://pandas.pydata.org/pandas-docs/stable/user_guide/indexing.html#returning-a-view-versus-a-copy\n",
      "\n",
      "C:\\Users\\HP'\\AppData\\Local\\Temp\\ipykernel_36812\\560689186.py:9: SettingWithCopyWarning:\n",
      "\n",
      "\n",
      "A value is trying to be set on a copy of a slice from a DataFrame.\n",
      "Try using .loc[row_indexer,col_indexer] = value instead\n",
      "\n",
      "See the caveats in the documentation: https://pandas.pydata.org/pandas-docs/stable/user_guide/indexing.html#returning-a-view-versus-a-copy\n",
      "\n"
     ]
    },
    {
     "data": {
      "text/html": [
       "<div>\n",
       "<style scoped>\n",
       "    .dataframe tbody tr th:only-of-type {\n",
       "        vertical-align: middle;\n",
       "    }\n",
       "\n",
       "    .dataframe tbody tr th {\n",
       "        vertical-align: top;\n",
       "    }\n",
       "\n",
       "    .dataframe thead th {\n",
       "        text-align: right;\n",
       "    }\n",
       "</style>\n",
       "<table border=\"1\" class=\"dataframe\">\n",
       "  <thead>\n",
       "    <tr style=\"text-align: right;\">\n",
       "      <th></th>\n",
       "      <th>Date</th>\n",
       "      <th>From</th>\n",
       "      <th>To</th>\n",
       "      <th>Subject</th>\n",
       "      <th>X-From</th>\n",
       "      <th>X-To</th>\n",
       "      <th>X-Folder</th>\n",
       "      <th>Folder</th>\n",
       "      <th>X-Origin</th>\n",
       "      <th>X-Filename</th>\n",
       "      <th>Content</th>\n",
       "      <th>Employee</th>\n",
       "      <th>Year</th>\n",
       "      <th>Month</th>\n",
       "      <th>sentiment scores</th>\n",
       "      <th>Sentiment</th>\n",
       "      <th>Emotions</th>\n",
       "    </tr>\n",
       "  </thead>\n",
       "  <tbody>\n",
       "    <tr>\n",
       "      <th>143923</th>\n",
       "      <td>2000-09-06 07:29:00+00:00</td>\n",
       "      <td>james.steffes@enron.com</td>\n",
       "      <td>sarah.novosel@enron.com</td>\n",
       "      <td>Re: California \"Fact Sheet\"</td>\n",
       "      <td>James D Steffes</td>\n",
       "      <td>Sarah Novosel</td>\n",
       "      <td>\\Jeff_Dasovich_Dec2000\\Notes Folders\\Notes inbox</td>\n",
       "      <td>notes inbox</td>\n",
       "      <td>DASOVICH-J</td>\n",
       "      <td>jdasovic.nsf</td>\n",
       "      <td>sarah looks fine. did craig roach contribute i...</td>\n",
       "      <td>dasovich-j</td>\n",
       "      <td>2000</td>\n",
       "      <td>9</td>\n",
       "      <td>{'neg': 0.029, 'neu': 0.853, 'pos': 0.118, 'co...</td>\n",
       "      <td>Positive</td>\n",
       "      <td>positive</td>\n",
       "    </tr>\n",
       "    <tr>\n",
       "      <th>264535</th>\n",
       "      <td>2000-07-25 10:34:00+00:00</td>\n",
       "      <td>kay.mann@enron.com</td>\n",
       "      <td>bob.carter@enron.com</td>\n",
       "      <td>ABB option</td>\n",
       "      <td>Kay Mann</td>\n",
       "      <td>Bob Carter</td>\n",
       "      <td>\\Kay_Mann_June2001_2\\Notes Folders\\Discussion ...</td>\n",
       "      <td>discussion threads</td>\n",
       "      <td>MANN-K</td>\n",
       "      <td>kmann.nsf</td>\n",
       "      <td>here's a version: you probably know this, but ...</td>\n",
       "      <td>mann-k</td>\n",
       "      <td>2000</td>\n",
       "      <td>7</td>\n",
       "      <td>{'neg': 0.045, 'neu': 0.911, 'pos': 0.045, 'co...</td>\n",
       "      <td>Negative</td>\n",
       "      <td>positive</td>\n",
       "    </tr>\n",
       "    <tr>\n",
       "      <th>215804</th>\n",
       "      <td>2001-01-08 13:00:00+00:00</td>\n",
       "      <td>sally.beck@enron.com</td>\n",
       "      <td>cwhite@viviance.com</td>\n",
       "      <td>Operator Error</td>\n",
       "      <td>Sally Beck</td>\n",
       "      <td>cwhite</td>\n",
       "      <td>\\Sally_Beck_Jun2001\\Notes Folders\\Discussion t...</td>\n",
       "      <td>discussion threads</td>\n",
       "      <td>Beck-S</td>\n",
       "      <td>sbeck.nsf</td>\n",
       "      <td>i just composed a somewhat lengthy e:mail abou...</td>\n",
       "      <td>beck-s</td>\n",
       "      <td>2001</td>\n",
       "      <td>1</td>\n",
       "      <td>{'neg': 0.038, 'neu': 0.936, 'pos': 0.026, 'co...</td>\n",
       "      <td>Negative</td>\n",
       "      <td>positive</td>\n",
       "    </tr>\n",
       "    <tr>\n",
       "      <th>1283</th>\n",
       "      <td>2000-12-12 16:54:00+00:00</td>\n",
       "      <td>don.hawkins@enron.com</td>\n",
       "      <td>jennifer.medcalf@enron.com</td>\n",
       "      <td>Re: Nepco Europe contact</td>\n",
       "      <td>Don Hawkins</td>\n",
       "      <td>Jennifer Medcalf</td>\n",
       "      <td>\\John_Arnold_Nov2001\\Notes Folders\\Nepco europe</td>\n",
       "      <td>nepco europe</td>\n",
       "      <td>ARNOLD-J</td>\n",
       "      <td>jarnold.nsf</td>\n",
       "      <td>thanks for the assistance. don jennifer medcal...</td>\n",
       "      <td>arnold-j</td>\n",
       "      <td>2000</td>\n",
       "      <td>12</td>\n",
       "      <td>{'neg': 0.0, 'neu': 0.87, 'pos': 0.13, 'compou...</td>\n",
       "      <td>Positive</td>\n",
       "      <td>positive</td>\n",
       "    </tr>\n",
       "    <tr>\n",
       "      <th>28403</th>\n",
       "      <td>2001-12-19 02:35:27+00:00</td>\n",
       "      <td>d..steffes@enron.com</td>\n",
       "      <td>wade.stubblefield@enron.com, jeff.dasovich@enr...</td>\n",
       "      <td>EEMC / EES CPUC Bond</td>\n",
       "      <td>Steffes James D</td>\n",
       "      <td>Stubblefield Wade</td>\n",
       "      <td>\\Jim_Steffes_Jan2002\\Steffes, James D.\\Sent Items</td>\n",
       "      <td>sent items</td>\n",
       "      <td>Steffes-J</td>\n",
       "      <td>jsteffe (Non-Privileged).pst</td>\n",
       "      <td>wade there may also need to be another $100k f...</td>\n",
       "      <td>steffes-j</td>\n",
       "      <td>2001</td>\n",
       "      <td>12</td>\n",
       "      <td>{'neg': 0.0, 'neu': 1.0, 'pos': 0.0, 'compound...</td>\n",
       "      <td>Negative</td>\n",
       "      <td>No Emotion</td>\n",
       "    </tr>\n",
       "  </tbody>\n",
       "</table>\n",
       "</div>"
      ],
      "text/plain": [
       "                            Date                     From  \\\n",
       "143923 2000-09-06 07:29:00+00:00  james.steffes@enron.com   \n",
       "264535 2000-07-25 10:34:00+00:00       kay.mann@enron.com   \n",
       "215804 2001-01-08 13:00:00+00:00     sally.beck@enron.com   \n",
       "1283   2000-12-12 16:54:00+00:00    don.hawkins@enron.com   \n",
       "28403  2001-12-19 02:35:27+00:00     d..steffes@enron.com   \n",
       "\n",
       "                                                       To  \\\n",
       "143923                            sarah.novosel@enron.com   \n",
       "264535                               bob.carter@enron.com   \n",
       "215804                                cwhite@viviance.com   \n",
       "1283                           jennifer.medcalf@enron.com   \n",
       "28403   wade.stubblefield@enron.com, jeff.dasovich@enr...   \n",
       "\n",
       "                            Subject           X-From               X-To  \\\n",
       "143923  Re: California \"Fact Sheet\"  James D Steffes      Sarah Novosel   \n",
       "264535                   ABB option         Kay Mann         Bob Carter   \n",
       "215804               Operator Error       Sally Beck             cwhite   \n",
       "1283       Re: Nepco Europe contact      Don Hawkins   Jennifer Medcalf   \n",
       "28403          EEMC / EES CPUC Bond  Steffes James D  Stubblefield Wade   \n",
       "\n",
       "                                                 X-Folder              Folder  \\\n",
       "143923   \\Jeff_Dasovich_Dec2000\\Notes Folders\\Notes inbox         notes inbox   \n",
       "264535  \\Kay_Mann_June2001_2\\Notes Folders\\Discussion ...  discussion threads   \n",
       "215804  \\Sally_Beck_Jun2001\\Notes Folders\\Discussion t...  discussion threads   \n",
       "1283      \\John_Arnold_Nov2001\\Notes Folders\\Nepco europe        nepco europe   \n",
       "28403   \\Jim_Steffes_Jan2002\\Steffes, James D.\\Sent Items          sent items   \n",
       "\n",
       "          X-Origin                    X-Filename  \\\n",
       "143923  DASOVICH-J                  jdasovic.nsf   \n",
       "264535      MANN-K                     kmann.nsf   \n",
       "215804      Beck-S                     sbeck.nsf   \n",
       "1283      ARNOLD-J                   jarnold.nsf   \n",
       "28403    Steffes-J  jsteffe (Non-Privileged).pst   \n",
       "\n",
       "                                                  Content    Employee  Year  \\\n",
       "143923  sarah looks fine. did craig roach contribute i...  dasovich-j  2000   \n",
       "264535  here's a version: you probably know this, but ...      mann-k  2000   \n",
       "215804  i just composed a somewhat lengthy e:mail abou...      beck-s  2001   \n",
       "1283    thanks for the assistance. don jennifer medcal...    arnold-j  2000   \n",
       "28403   wade there may also need to be another $100k f...   steffes-j  2001   \n",
       "\n",
       "        Month                                   sentiment scores Sentiment  \\\n",
       "143923      9  {'neg': 0.029, 'neu': 0.853, 'pos': 0.118, 'co...  Positive   \n",
       "264535      7  {'neg': 0.045, 'neu': 0.911, 'pos': 0.045, 'co...  Negative   \n",
       "215804      1  {'neg': 0.038, 'neu': 0.936, 'pos': 0.026, 'co...  Negative   \n",
       "1283       12  {'neg': 0.0, 'neu': 0.87, 'pos': 0.13, 'compou...  Positive   \n",
       "28403      12  {'neg': 0.0, 'neu': 1.0, 'pos': 0.0, 'compound...  Negative   \n",
       "\n",
       "          Emotions  \n",
       "143923    positive  \n",
       "264535    positive  \n",
       "215804    positive  \n",
       "1283      positive  \n",
       "28403   No Emotion  "
      ]
     },
     "execution_count": 25,
     "metadata": {},
     "output_type": "execute_result"
    }
   ],
   "source": [
    "# defining another function for sentiment analysis with different emotions using NRCLex lexicon\n",
    "def sentiment(message):\n",
    "    text = NRCLex(message)\n",
    "    if text.top_emotions[0][1] == 0.0:\n",
    "        return 'No Emotion'\n",
    "    else:\n",
    "        return text.top_emotions[0][0]\n",
    "time1_data['Emotions'] =  time1_data['Content'].apply(sentiment)\n",
    "time2_data['Emotions'] =  time2_data['Content'].apply(sentiment)\n",
    "\n",
    "time1_data.sample(5)\n",
    "time2_data.sample(5)"
   ]
  },
  {
   "cell_type": "code",
   "execution_count": 26,
   "metadata": {},
   "outputs": [
    {
     "data": {
      "text/plain": [
       "(              count\n",
       " Emotions           \n",
       " positive        244\n",
       " trust           112\n",
       " negative         35\n",
       " anticipation     24\n",
       " fear             12\n",
       " surprise          9\n",
       " anger             3\n",
       " sadness           2,\n",
       "                count\n",
       " Emotions            \n",
       " positive      273538\n",
       " trust          81989\n",
       " negative       52924\n",
       " anticipation   33496\n",
       " fear           12098\n",
       " surprise        4601\n",
       " anger           3085\n",
       " sadness          508\n",
       " joy               85\n",
       " disgust           72)"
      ]
     },
     "execution_count": 26,
     "metadata": {},
     "output_type": "execute_result"
    }
   ],
   "source": [
    "emotions_time1 = time1_data['Emotions'].value_counts()\n",
    "emotions_time2 = time2_data['Emotions'].value_counts()\n",
    "\n",
    "emotion_chart_time1 = pd.DataFrame(emotions_time1)\n",
    "emotion_chart_time2 = pd.DataFrame(emotions_time2)\n",
    "\n",
    "emotion_chart_time1 = emotion_chart_time1.drop('No Emotion', axis = 0)\n",
    "emotion_chart_time2 = emotion_chart_time2.drop('No Emotion', axis = 0)\n",
    "\n",
    "emotion_chart_time1, emotion_chart_time2"
   ]
  },
  {
   "cell_type": "code",
   "execution_count": 27,
   "metadata": {},
   "outputs": [
    {
     "data": {
      "image/png": "[encoded data removed]",
      "text/plain": [
       "<Figure size 2000x1000 with 2 Axes>"
      ]
     },
     "metadata": {},
     "output_type": "display_data"
    }
   ],
   "source": [
    "# A pie chart for showing the percentage of every emotion in the text\n",
    "labels_time1 = emotion_chart_time1.index.tolist()\n",
    "labels_time2 = emotion_chart_time2.index.tolist()\n",
    "\n",
    "fig, axs=plt.subplots(1,2,figsize=(20,10))\n",
    "\n",
    "axs[0].pie(emotion_chart_time1['count'].values, labels = labels_time1 , autopct = '%1.1f%%',labeldistance= 1.1)\n",
    "axs[0].set_title('Emotions - Time1', fontsize=14)\n",
    "\n",
    "axs[1].pie(emotion_chart_time2['count'].values, labels = labels_time2 , autopct = '%1.1f%%',labeldistance= 1.1)\n",
    "axs[1].set_title('Emotions - Time2', fontsize=14)\n",
    "\n",
    "plt.legend(loc = 'upper right')\n",
    "plt.show()"
   ]
  },
  {
   "cell_type": "code",
   "execution_count": 50,
   "metadata": {},
   "outputs": [
    {
     "data": {
      "image/png": "[encoded data removed]",
      "text/plain": [
       "<Figure size 1500x800 with 2 Axes>"
      ]
     },
     "metadata": {},
     "output_type": "display_data"
    }
   ],
   "source": [
    "# Radar chart for the emotions\n",
    "from math import pi\n",
    "\n",
    "# Ensure all necessary emotions are in the dataframe\n",
    "new_emotions = ['joy', 'disgust']\n",
    "for emotion in new_emotions:\n",
    "    if emotion not in emotion_chart_time1.index:\n",
    "        emotion_chart_time1.loc[emotion] = [0]\n",
    "    if emotion not in emotion_chart_time2.index:\n",
    "        emotion_chart_time2.loc[emotion] = [0]\n",
    "\n",
    "all_emotions = emotion_chart_time1.index.union(emotion_chart_time2.index)\n",
    "\n",
    "# Prepare data for the radar charts\n",
    "values1 = emotion_chart_time1.reindex(all_emotions, fill_value=0)['count'].tolist() + emotion_chart_time1.reindex(all_emotions, fill_value=0)['count'].tolist()[:1]\n",
    "values2 = emotion_chart_time2.reindex(all_emotions, fill_value=0)['count'].tolist() + emotion_chart_time2.reindex(all_emotions, fill_value=0)['count'].tolist()[:1]\n",
    "angles = [n / float(len(all_emotions)) * 2 * pi for n in range(len(all_emotions) + 1)]\n",
    "\n",
    "# Set up the subplot configuration for both radar charts\n",
    "fig, axes = plt.subplots(1, 2, figsize=(15, 8), subplot_kw=dict(polar=True))\n",
    "for ax, values, title, color in zip(axes, [values1, values2], ['Time 1', 'Time 2'], ['blue', 'red']):\n",
    "    ax.set_theta_offset(pi / 2)\n",
    "    ax.set_theta_direction(-1)\n",
    "    ax.plot(angles, values, linewidth=1, linestyle='solid', label=title)\n",
    "    ax.fill(angles, values, color=color, alpha=0.1)\n",
    "    ax.set_xticks(angles[:-1])\n",
    "    ax.set_xticklabels(all_emotions)\n",
    "    ax.set_title(f'Emotion Distribution at {title}', size=15)\n",
    "\n",
    "fig.tight_layout()  # Adjust layout to make room for the plots\n",
    "plt.show()\n",
    "\n"
   ]
  }
 ],
 "metadata": {
  "kernelspec": {
   "display_name": "3.10.14",
   "language": "python",
   "name": "python3"
  },
  "language_info": {
   "codemirror_mode": {
    "name": "ipython",
    "version": 3
   },
   "file_extension": ".py",
   "mimetype": "text/x-python",
   "name": "python",
   "nbconvert_exporter": "python",
   "pygments_lexer": "ipython3",
   "version": "3.8.19"
  }
 },
 "nbformat": 4,
 "nbformat_minor": 2
}
