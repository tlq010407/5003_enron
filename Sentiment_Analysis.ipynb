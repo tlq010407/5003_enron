{
 "cells": [
  {
   "cell_type": "code",
   "execution_count": 2,
   "metadata": {},
   "outputs": [],
   "source": [
    "# Sentiment Analysis\n",
    "import vaderSentiment\n",
    "from vaderSentiment.vaderSentiment import SentimentIntensityAnalyzer\n",
    "from nrclex import NRCLex\n",
    "import csv\n",
    "import pandas as pd\n",
    "import numpy as np\n",
    "import matplotlib.pyplot as plt\n",
    "import seaborn as sns"
   ]
  },
  {
   "cell_type": "code",
   "execution_count": 3,
   "metadata": {},
   "outputs": [],
   "source": [
    "# Load the cleaned data\n",
    "df = pd.read_csv('../enron_emails_cleaned.csv')"
   ]
  },
  {
   "cell_type": "code",
   "execution_count": 4,
   "metadata": {},
   "outputs": [],
   "source": [
    "# praeparing the sentiment analyzer\n",
    "analyzer = SentimentIntensityAnalyzer()"
   ]
  },
  {
   "cell_type": "code",
   "execution_count": 5,
   "metadata": {},
   "outputs": [],
   "source": [
    "# Save `content` column as a string\n",
    "text=df['Content'].astype(str)"
   ]
  },
  {
   "cell_type": "code",
   "execution_count": null,
   "metadata": {},
   "outputs": [],
   "source": [
    "df['sentiment scores'] = [analyzer.polarity_scores(message) for message in text]\n",
    "df.sample(5)"
   ]
  },
  {
   "cell_type": "code",
   "execution_count": 1,
   "metadata": {},
   "outputs": [
    {
     "ename": "NameError",
     "evalue": "name 'pd' is not defined",
     "output_type": "error",
     "traceback": [
      "\u001b[0;31m---------------------------------------------------------------------------\u001b[0m",
      "\u001b[0;31mNameError\u001b[0m                                 Traceback (most recent call last)",
      "Cell \u001b[0;32mIn[1], line 2\u001b[0m\n\u001b[1;32m      1\u001b[0m \u001b[38;5;66;03m#split based on time\u001b[39;00m\n\u001b[0;32m----> 2\u001b[0m df[\u001b[38;5;124m'\u001b[39m\u001b[38;5;124mDate\u001b[39m\u001b[38;5;124m'\u001b[39m] \u001b[38;5;241m=\u001b[39m \u001b[43mpd\u001b[49m\u001b[38;5;241m.\u001b[39mto_datetime(df[\u001b[38;5;124m'\u001b[39m\u001b[38;5;124mDate\u001b[39m\u001b[38;5;124m'\u001b[39m])\n\u001b[1;32m      3\u001b[0m \u001b[38;5;66;03m#choose a time\u001b[39;00m\n\u001b[1;32m      4\u001b[0m split_year\u001b[38;5;241m=\u001b[39m\u001b[38;5;241m1999\u001b[39m\n",
      "\u001b[0;31mNameError\u001b[0m: name 'pd' is not defined"
     ]
    }
   ],
   "source": [
    "#split based on time\n",
    "df['Date'] = pd.to_datetime(df['Date'])\n",
    "#choose a time\n",
    "split_year=1999\n",
    "split_month=1\n",
    "\n",
    "time1_data=df[(df[\"Year\"]<split_year)|((df['Year']==split_year) & (df[\"Month\"]<split_month))]\n",
    "time2_data=df[(df[\"Year\"]>split_year)|((df['Year']==split_year) & (df[\"Month\"]>=split_month))]\n"
   ]
  },
  {
   "cell_type": "code",
   "execution_count": 16,
   "metadata": {},
   "outputs": [
    {
     "data": {
      "text/html": [
       "<div>\n",
       "<style scoped>\n",
       "    .dataframe tbody tr th:only-of-type {\n",
       "        vertical-align: middle;\n",
       "    }\n",
       "\n",
       "    .dataframe tbody tr th {\n",
       "        vertical-align: top;\n",
       "    }\n",
       "\n",
       "    .dataframe thead th {\n",
       "        text-align: right;\n",
       "    }\n",
       "</style>\n",
       "<table border=\"1\" class=\"dataframe\">\n",
       "  <thead>\n",
       "    <tr style=\"text-align: right;\">\n",
       "      <th></th>\n",
       "      <th>Date</th>\n",
       "      <th>From</th>\n",
       "      <th>To</th>\n",
       "      <th>Subject</th>\n",
       "      <th>X-From</th>\n",
       "      <th>X-To</th>\n",
       "      <th>X-Folder</th>\n",
       "      <th>Folder</th>\n",
       "      <th>X-Origin</th>\n",
       "      <th>X-Filename</th>\n",
       "      <th>Cotent</th>\n",
       "      <th>Employee</th>\n",
       "      <th>Year</th>\n",
       "      <th>Month</th>\n",
       "      <th>sentiment scores</th>\n",
       "    </tr>\n",
       "  </thead>\n",
       "  <tbody>\n",
       "    <tr>\n",
       "      <th>79017</th>\n",
       "      <td>2000-04-28 11:28:00+00:00</td>\n",
       "      <td>chris.germany@enron.com</td>\n",
       "      <td>katherine.kelly@enron.com, victor.lamadrid@enr...</td>\n",
       "      <td>Final May'00 FOM volumes</td>\n",
       "      <td>Chris Germany</td>\n",
       "      <td>Katherine L Kelly Victor Lamadrid Edward Terry...</td>\n",
       "      <td>\\Chris_Germany_Dec2000\\Notes Folders\\Sent</td>\n",
       "      <td>sent</td>\n",
       "      <td>Germany-C</td>\n",
       "      <td>cgerman.nsf</td>\n",
       "      <td>---------------------- Forwarded by Chris Germ...</td>\n",
       "      <td>germany-c</td>\n",
       "      <td>2000</td>\n",
       "      <td>4</td>\n",
       "      <td>{'neg': 0.0, 'neu': 0.906, 'pos': 0.094, 'comp...</td>\n",
       "    </tr>\n",
       "    <tr>\n",
       "      <th>55386</th>\n",
       "      <td>2000-03-10 07:25:00+00:00</td>\n",
       "      <td>shirley.crenshaw@enron.com</td>\n",
       "      <td>vince.kaminski@enron.com</td>\n",
       "      <td>Re: Vacation</td>\n",
       "      <td>Shirley Crenshaw</td>\n",
       "      <td>Vince J Kaminski</td>\n",
       "      <td>\\Vincent_Kaminski_Jun2001_9\\Notes Folders\\C:\\M...</td>\n",
       "      <td>management</td>\n",
       "      <td>Kaminski-V</td>\n",
       "      <td>vkamins.nsf</td>\n",
       "      <td>Vince:\\n\\nI just found out that it is Friday, ...</td>\n",
       "      <td>kaminski-v</td>\n",
       "      <td>2000</td>\n",
       "      <td>3</td>\n",
       "      <td>{'neg': 0.0, 'neu': 0.812, 'pos': 0.188, 'comp...</td>\n",
       "    </tr>\n",
       "    <tr>\n",
       "      <th>354121</th>\n",
       "      <td>2000-02-14 16:50:00+00:00</td>\n",
       "      <td>bret.reich@enron.com</td>\n",
       "      <td>george.robinson@enron.com, larry.campbell@enro...</td>\n",
       "      <td>Eunice Gas Plant</td>\n",
       "      <td>Bret Reich</td>\n",
       "      <td>George Robinson Larry Campbell</td>\n",
       "      <td>\\Larry_Campbell_Nov2001_1\\Notes Folders\\Euncie...</td>\n",
       "      <td>euncie_texaco remediation</td>\n",
       "      <td>CAMPBELL-L</td>\n",
       "      <td>lcampbe.nsf</td>\n",
       "      <td>fyi\\n---------------------- Forwarded by Bret ...</td>\n",
       "      <td>campbell-l</td>\n",
       "      <td>2000</td>\n",
       "      <td>2</td>\n",
       "      <td>{'neg': 0.025, 'neu': 0.904, 'pos': 0.071, 'co...</td>\n",
       "    </tr>\n",
       "    <tr>\n",
       "      <th>78786</th>\n",
       "      <td>1999-12-29 10:48:00+00:00</td>\n",
       "      <td>chris.germany@enron.com</td>\n",
       "      <td>pvillag@columbiaenergy.com, mark.friedman@enro...</td>\n",
       "      <td>Tenn supply in Zone 4</td>\n",
       "      <td>Chris Germany</td>\n",
       "      <td>pvillag</td>\n",
       "      <td>\\Chris_Germany_Dec2000\\Notes Folders\\Sent</td>\n",
       "      <td>sent</td>\n",
       "      <td>Germany-C</td>\n",
       "      <td>cgerman.nsf</td>\n",
       "      <td>I'm sorry.  I forgot to mention Kathy and I ca...</td>\n",
       "      <td>germany-c</td>\n",
       "      <td>1999</td>\n",
       "      <td>12</td>\n",
       "      <td>{'neg': 0.018, 'neu': 0.943, 'pos': 0.04, 'com...</td>\n",
       "    </tr>\n",
       "    <tr>\n",
       "      <th>83800</th>\n",
       "      <td>2000-02-11 09:19:00+00:00</td>\n",
       "      <td>bperron@columbiaenergygroup.com</td>\n",
       "      <td>chris.germany@enron.com</td>\n",
       "      <td>Re: COH Redirect &amp; Add'l Gas</td>\n",
       "      <td>bperron</td>\n",
       "      <td>Chris Germany</td>\n",
       "      <td>\\Chris_Germany_Dec2000\\Notes Folders\\All docum...</td>\n",
       "      <td>all documents</td>\n",
       "      <td>Germany-C</td>\n",
       "      <td>cgerman.nsf</td>\n",
       "      <td>This is gas that was missing from our first of...</td>\n",
       "      <td>germany-c</td>\n",
       "      <td>2000</td>\n",
       "      <td>2</td>\n",
       "      <td>{'neg': 0.023, 'neu': 0.903, 'pos': 0.073, 'co...</td>\n",
       "    </tr>\n",
       "  </tbody>\n",
       "</table>\n",
       "</div>"
      ],
      "text/plain": [
       "                            Date                             From  \\\n",
       "79017  2000-04-28 11:28:00+00:00          chris.germany@enron.com   \n",
       "55386  2000-03-10 07:25:00+00:00       shirley.crenshaw@enron.com   \n",
       "354121 2000-02-14 16:50:00+00:00             bret.reich@enron.com   \n",
       "78786  1999-12-29 10:48:00+00:00          chris.germany@enron.com   \n",
       "83800  2000-02-11 09:19:00+00:00  bperron@columbiaenergygroup.com   \n",
       "\n",
       "                                                       To  \\\n",
       "79017   katherine.kelly@enron.com, victor.lamadrid@enr...   \n",
       "55386                            vince.kaminski@enron.com   \n",
       "354121  george.robinson@enron.com, larry.campbell@enro...   \n",
       "78786   pvillag@columbiaenergy.com, mark.friedman@enro...   \n",
       "83800                             chris.germany@enron.com   \n",
       "\n",
       "                             Subject            X-From  \\\n",
       "79017       Final May'00 FOM volumes     Chris Germany   \n",
       "55386                   Re: Vacation  Shirley Crenshaw   \n",
       "354121              Eunice Gas Plant        Bret Reich   \n",
       "78786          Tenn supply in Zone 4     Chris Germany   \n",
       "83800   Re: COH Redirect & Add'l Gas           bperron   \n",
       "\n",
       "                                                     X-To  \\\n",
       "79017   Katherine L Kelly Victor Lamadrid Edward Terry...   \n",
       "55386                                    Vince J Kaminski   \n",
       "354121                     George Robinson Larry Campbell   \n",
       "78786                                             pvillag   \n",
       "83800                                       Chris Germany   \n",
       "\n",
       "                                                 X-Folder  \\\n",
       "79017           \\Chris_Germany_Dec2000\\Notes Folders\\Sent   \n",
       "55386   \\Vincent_Kaminski_Jun2001_9\\Notes Folders\\C:\\M...   \n",
       "354121  \\Larry_Campbell_Nov2001_1\\Notes Folders\\Euncie...   \n",
       "78786           \\Chris_Germany_Dec2000\\Notes Folders\\Sent   \n",
       "83800   \\Chris_Germany_Dec2000\\Notes Folders\\All docum...   \n",
       "\n",
       "                           Folder    X-Origin   X-Filename  \\\n",
       "79017                        sent   Germany-C  cgerman.nsf   \n",
       "55386                  management  Kaminski-V  vkamins.nsf   \n",
       "354121  euncie_texaco remediation  CAMPBELL-L  lcampbe.nsf   \n",
       "78786                        sent   Germany-C  cgerman.nsf   \n",
       "83800               all documents   Germany-C  cgerman.nsf   \n",
       "\n",
       "                                                   Cotent    Employee  Year  \\\n",
       "79017   ---------------------- Forwarded by Chris Germ...   germany-c  2000   \n",
       "55386   Vince:\\n\\nI just found out that it is Friday, ...  kaminski-v  2000   \n",
       "354121  fyi\\n---------------------- Forwarded by Bret ...  campbell-l  2000   \n",
       "78786   I'm sorry.  I forgot to mention Kathy and I ca...   germany-c  1999   \n",
       "83800   This is gas that was missing from our first of...   germany-c  2000   \n",
       "\n",
       "        Month                                   sentiment scores  \n",
       "79017       4  {'neg': 0.0, 'neu': 0.906, 'pos': 0.094, 'comp...  \n",
       "55386       3  {'neg': 0.0, 'neu': 0.812, 'pos': 0.188, 'comp...  \n",
       "354121      2  {'neg': 0.025, 'neu': 0.904, 'pos': 0.071, 'co...  \n",
       "78786      12  {'neg': 0.018, 'neu': 0.943, 'pos': 0.04, 'com...  \n",
       "83800       2  {'neg': 0.023, 'neu': 0.903, 'pos': 0.073, 'co...  "
      ]
     },
     "execution_count": 16,
     "metadata": {},
     "output_type": "execute_result"
    }
   ],
   "source": [
    "time1_data.sample(5)\n"
   ]
  },
  {
   "cell_type": "code",
   "execution_count": 17,
   "metadata": {},
   "outputs": [
    {
     "data": {
      "text/html": [
       "<div>\n",
       "<style scoped>\n",
       "    .dataframe tbody tr th:only-of-type {\n",
       "        vertical-align: middle;\n",
       "    }\n",
       "\n",
       "    .dataframe tbody tr th {\n",
       "        vertical-align: top;\n",
       "    }\n",
       "\n",
       "    .dataframe thead th {\n",
       "        text-align: right;\n",
       "    }\n",
       "</style>\n",
       "<table border=\"1\" class=\"dataframe\">\n",
       "  <thead>\n",
       "    <tr style=\"text-align: right;\">\n",
       "      <th></th>\n",
       "      <th>Date</th>\n",
       "      <th>From</th>\n",
       "      <th>To</th>\n",
       "      <th>Subject</th>\n",
       "      <th>X-From</th>\n",
       "      <th>X-To</th>\n",
       "      <th>X-Folder</th>\n",
       "      <th>Folder</th>\n",
       "      <th>X-Origin</th>\n",
       "      <th>X-Filename</th>\n",
       "      <th>Cotent</th>\n",
       "      <th>Employee</th>\n",
       "      <th>Year</th>\n",
       "      <th>Month</th>\n",
       "      <th>sentiment scores</th>\n",
       "    </tr>\n",
       "  </thead>\n",
       "  <tbody>\n",
       "    <tr>\n",
       "      <th>168471</th>\n",
       "      <td>2002-01-15 20:32:17+00:00</td>\n",
       "      <td>lynemartin@msn.com</td>\n",
       "      <td>a..martin@enron.com</td>\n",
       "      <td>NWAL Meeting</td>\n",
       "      <td>Lyne Martin</td>\n",
       "      <td>Martin Thomas A</td>\n",
       "      <td>\\ExMerge - Martin, Thomas A.\\Inbox</td>\n",
       "      <td>inbox</td>\n",
       "      <td>MARTIN-T</td>\n",
       "      <td>tom martin 6-25-02.PST</td>\n",
       "      <td>\\nTom,\\n \\nI received an e-mail from Linda Car...</td>\n",
       "      <td>martin-t</td>\n",
       "      <td>2002</td>\n",
       "      <td>1</td>\n",
       "      <td>{'neg': 0.0, 'neu': 0.972, 'pos': 0.028, 'comp...</td>\n",
       "    </tr>\n",
       "    <tr>\n",
       "      <th>226199</th>\n",
       "      <td>2001-02-22 16:11:00+00:00</td>\n",
       "      <td>ameytina@bear.com</td>\n",
       "      <td>sara.shackleton@enron.com</td>\n",
       "      <td>Assumption and Assignment Agreement</td>\n",
       "      <td>Meytina Anna Confidential Memo- Counsel</td>\n",
       "      <td>Sara Shackleton</td>\n",
       "      <td>\\Sara_Shackleton_Dec2000_June2001_2\\Notes Fold...</td>\n",
       "      <td>notes inbox</td>\n",
       "      <td>SHACKLETON-S</td>\n",
       "      <td>sshackle.nsf</td>\n",
       "      <td>Sara:\\n\\nAttached please find a copy of the as...</td>\n",
       "      <td>shackleton-s</td>\n",
       "      <td>2001</td>\n",
       "      <td>2</td>\n",
       "      <td>{'neg': 0.008, 'neu': 0.818, 'pos': 0.174, 'co...</td>\n",
       "    </tr>\n",
       "    <tr>\n",
       "      <th>241111</th>\n",
       "      <td>2001-05-31 17:16:00+00:00</td>\n",
       "      <td>cheryl.nelson@enron.com</td>\n",
       "      <td>sara.shackleton@enron.com</td>\n",
       "      <td>RE: Assignment &amp; Assumption Agreement</td>\n",
       "      <td>Cheryl Nelson</td>\n",
       "      <td>Sara Shackleton</td>\n",
       "      <td>\\Sara_Shackleton_Dec2000_June2001_2\\Notes Fold...</td>\n",
       "      <td>all documents</td>\n",
       "      <td>SHACKLETON-S</td>\n",
       "      <td>sshackle.nsf</td>\n",
       "      <td>Sara, as per your request, here is one of the ...</td>\n",
       "      <td>shackleton-s</td>\n",
       "      <td>2001</td>\n",
       "      <td>5</td>\n",
       "      <td>{'neg': 0.008, 'neu': 0.909, 'pos': 0.083, 'co...</td>\n",
       "    </tr>\n",
       "    <tr>\n",
       "      <th>141817</th>\n",
       "      <td>2000-10-04 12:02:00+00:00</td>\n",
       "      <td>miyung.buster@enron.com</td>\n",
       "      <td>filuntz@aol.com, liz@luntz.com, nicholas.o'day...</td>\n",
       "      <td>Long-Term Power Contracts Present Dilemma for ...</td>\n",
       "      <td>Miyung Buster</td>\n",
       "      <td>Joe Hartsoe</td>\n",
       "      <td>\\Jeff_Dasovich_Dec2000\\Notes Folders\\Notes inbox</td>\n",
       "      <td>notes inbox</td>\n",
       "      <td>DASOVICH-J</td>\n",
       "      <td>jdasovic.nsf</td>\n",
       "      <td>Business; Financial Desk \\nLong-Term Power Con...</td>\n",
       "      <td>dasovich-j</td>\n",
       "      <td>2000</td>\n",
       "      <td>10</td>\n",
       "      <td>{'neg': 0.088, 'neu': 0.855, 'pos': 0.057, 'co...</td>\n",
       "    </tr>\n",
       "    <tr>\n",
       "      <th>112814</th>\n",
       "      <td>2001-03-14 06:41:00+00:00</td>\n",
       "      <td>mary.hain@enron.com</td>\n",
       "      <td>lysa.akin@enron.com</td>\n",
       "      <td>NaN</td>\n",
       "      <td>Mary Hain</td>\n",
       "      <td>Lysa Akin</td>\n",
       "      <td>\\Mary_Hain_Aug2000_Jul2001\\Notes Folders\\Discu...</td>\n",
       "      <td>discussion threads</td>\n",
       "      <td>Hain-M</td>\n",
       "      <td>mary-hain.nsf</td>\n",
       "      <td>How much vacation/floating holiday time have I...</td>\n",
       "      <td>hain-m</td>\n",
       "      <td>2001</td>\n",
       "      <td>3</td>\n",
       "      <td>{'neg': 0.0, 'neu': 0.748, 'pos': 0.252, 'comp...</td>\n",
       "    </tr>\n",
       "  </tbody>\n",
       "</table>\n",
       "</div>"
      ],
      "text/plain": [
       "                            Date                     From  \\\n",
       "168471 2002-01-15 20:32:17+00:00       lynemartin@msn.com   \n",
       "226199 2001-02-22 16:11:00+00:00        ameytina@bear.com   \n",
       "241111 2001-05-31 17:16:00+00:00  cheryl.nelson@enron.com   \n",
       "141817 2000-10-04 12:02:00+00:00  miyung.buster@enron.com   \n",
       "112814 2001-03-14 06:41:00+00:00      mary.hain@enron.com   \n",
       "\n",
       "                                                       To  \\\n",
       "168471                                a..martin@enron.com   \n",
       "226199                          sara.shackleton@enron.com   \n",
       "241111                          sara.shackleton@enron.com   \n",
       "141817  filuntz@aol.com, liz@luntz.com, nicholas.o'day...   \n",
       "112814                                lysa.akin@enron.com   \n",
       "\n",
       "                                                  Subject  \\\n",
       "168471                                       NWAL Meeting   \n",
       "226199                Assumption and Assignment Agreement   \n",
       "241111              RE: Assignment & Assumption Agreement   \n",
       "141817  Long-Term Power Contracts Present Dilemma for ...   \n",
       "112814                                                NaN   \n",
       "\n",
       "                                         X-From             X-To  \\\n",
       "168471                              Lyne Martin  Martin Thomas A   \n",
       "226199  Meytina Anna Confidential Memo- Counsel  Sara Shackleton   \n",
       "241111                            Cheryl Nelson  Sara Shackleton   \n",
       "141817                            Miyung Buster      Joe Hartsoe   \n",
       "112814                                Mary Hain        Lysa Akin   \n",
       "\n",
       "                                                 X-Folder              Folder  \\\n",
       "168471                 \\ExMerge - Martin, Thomas A.\\Inbox               inbox   \n",
       "226199  \\Sara_Shackleton_Dec2000_June2001_2\\Notes Fold...         notes inbox   \n",
       "241111  \\Sara_Shackleton_Dec2000_June2001_2\\Notes Fold...       all documents   \n",
       "141817   \\Jeff_Dasovich_Dec2000\\Notes Folders\\Notes inbox         notes inbox   \n",
       "112814  \\Mary_Hain_Aug2000_Jul2001\\Notes Folders\\Discu...  discussion threads   \n",
       "\n",
       "            X-Origin              X-Filename  \\\n",
       "168471      MARTIN-T  tom martin 6-25-02.PST   \n",
       "226199  SHACKLETON-S            sshackle.nsf   \n",
       "241111  SHACKLETON-S            sshackle.nsf   \n",
       "141817    DASOVICH-J            jdasovic.nsf   \n",
       "112814        Hain-M           mary-hain.nsf   \n",
       "\n",
       "                                                   Cotent      Employee  Year  \\\n",
       "168471  \\nTom,\\n \\nI received an e-mail from Linda Car...      martin-t  2002   \n",
       "226199  Sara:\\n\\nAttached please find a copy of the as...  shackleton-s  2001   \n",
       "241111  Sara, as per your request, here is one of the ...  shackleton-s  2001   \n",
       "141817  Business; Financial Desk \\nLong-Term Power Con...    dasovich-j  2000   \n",
       "112814  How much vacation/floating holiday time have I...        hain-m  2001   \n",
       "\n",
       "        Month                                   sentiment scores  \n",
       "168471      1  {'neg': 0.0, 'neu': 0.972, 'pos': 0.028, 'comp...  \n",
       "226199      2  {'neg': 0.008, 'neu': 0.818, 'pos': 0.174, 'co...  \n",
       "241111      5  {'neg': 0.008, 'neu': 0.909, 'pos': 0.083, 'co...  \n",
       "141817     10  {'neg': 0.088, 'neu': 0.855, 'pos': 0.057, 'co...  \n",
       "112814      3  {'neg': 0.0, 'neu': 0.748, 'pos': 0.252, 'comp...  "
      ]
     },
     "execution_count": 17,
     "metadata": {},
     "output_type": "execute_result"
    }
   ],
   "source": [
    "time2_data.sample(5)"
   ]
  },
  {
   "cell_type": "code",
   "execution_count": 18,
   "metadata": {},
   "outputs": [],
   "source": [
    "# Determine the positive and negative scores\n",
    "def determine_sentiment(data):\n",
    "    sentiment = []\n",
    "    for i in data['sentiment scores'].values:\n",
    "        if i['compound'] > 0.05:\n",
    "            sentiment.append('Positive')\n",
    "        elif i['compound'] < 0.05:\n",
    "            sentiment.append('Negative')\n",
    "        else:\n",
    "            sentiment.append('Neutral')\n",
    "    data['Sentiment'] = sentiment\n",
    "    return data"
   ]
  },
  {
   "cell_type": "code",
   "execution_count": 19,
   "metadata": {},
   "outputs": [
    {
     "name": "stderr",
     "output_type": "stream",
     "text": [
      "/var/folders/k8/13s2hdrn4j3c1707gnj300r80000gn/T/ipykernel_80702/1645305737.py:11: SettingWithCopyWarning: \n",
      "A value is trying to be set on a copy of a slice from a DataFrame.\n",
      "Try using .loc[row_indexer,col_indexer] = value instead\n",
      "\n",
      "See the caveats in the documentation: https://pandas.pydata.org/pandas-docs/stable/user_guide/indexing.html#returning-a-view-versus-a-copy\n",
      "  data['Sentiment'] = sentiment\n",
      "/var/folders/k8/13s2hdrn4j3c1707gnj300r80000gn/T/ipykernel_80702/1645305737.py:11: SettingWithCopyWarning: \n",
      "A value is trying to be set on a copy of a slice from a DataFrame.\n",
      "Try using .loc[row_indexer,col_indexer] = value instead\n",
      "\n",
      "See the caveats in the documentation: https://pandas.pydata.org/pandas-docs/stable/user_guide/indexing.html#returning-a-view-versus-a-copy\n",
      "  data['Sentiment'] = sentiment\n"
     ]
    }
   ],
   "source": [
    "time1_data=determine_sentiment(time1_data)\n",
    "time2_data=determine_sentiment(time2_data)"
   ]
  },
  {
   "cell_type": "code",
   "execution_count": 20,
   "metadata": {},
   "outputs": [
    {
     "name": "stdout",
     "output_type": "stream",
     "text": [
      "Sentiment values for time1:\n",
      "Sentiment\n",
      "Positive    39402\n",
      "Negative     8463\n",
      "Name: count, dtype: int64\n",
      "\n",
      "Sentiment values for time2:\n",
      "Sentiment\n",
      "Positive    329394\n",
      "Negative     67826\n",
      "Neutral          2\n",
      "Name: count, dtype: int64\n"
     ]
    }
   ],
   "source": [
    "sentiment_values_time1 = time1_data['Sentiment'].value_counts()\n",
    "sentiment_values_time1.columns = ['Sentiment', 'Count']\n",
    "sentiment_values_time2 = time2_data['Sentiment'].value_counts()\n",
    "sentiment_values_time2.columns = ['Sentiment', 'Count']\n",
    "#print\n",
    "print(\"Sentiment values for time1:\")\n",
    "print(sentiment_values_time1)\n",
    "\n",
    "print(\"\\nSentiment values for time2:\")\n",
    "print(sentiment_values_time2)"
   ]
  },
  {
   "cell_type": "code",
   "execution_count": 25,
   "metadata": {},
   "outputs": [],
   "source": [
    "import plotly.express as px"
   ]
  },
  {
   "cell_type": "code",
   "execution_count": 26,
   "metadata": {},
   "outputs": [
    {
     "data": {
      "application/vnd.plotly.v1+json": {
       "config": {
        "plotlyServerURL": "https://plot.ly"
       },
       "data": [
        {
         "hovertemplate": "variable=count<br>value=%{x}<br>Sentiment=%{y}<extra></extra>",
         "legendgroup": "count",
         "marker": {
          "color": "#636efa"
         },
         "name": "count",
         "orientation": "h",
         "showlegend": true,
         "type": "funnel",
         "x": [
          39402,
          8463
         ],
         "xaxis": "x",
         "y": [
          "Positive",
          "Negative"
         ],
         "yaxis": "y"
        }
       ],
       "layout": {
        "legend": {
         "title": {
          "text": "variable"
         },
         "tracegroupgap": 0
        },
        "template": {
         "data": {
          "bar": [
           {
            "error_x": {
             "color": "#2a3f5f"
            },
            "error_y": {
             "color": "#2a3f5f"
            },
            "marker": {
             "line": {
              "color": "#E5ECF6",
              "width": 0.5
             },
             "pattern": {
              "fillmode": "overlay",
              "size": 10,
              "solidity": 0.2
             }
            },
            "type": "bar"
           }
          ],
          "barpolar": [
           {
            "marker": {
             "line": {
              "color": "#E5ECF6",
              "width": 0.5
             },
             "pattern": {
              "fillmode": "overlay",
              "size": 10,
              "solidity": 0.2
             }
            },
            "type": "barpolar"
           }
          ],
          "carpet": [
           {
            "aaxis": {
             "endlinecolor": "#2a3f5f",
             "gridcolor": "white",
             "linecolor": "white",
             "minorgridcolor": "white",
             "startlinecolor": "#2a3f5f"
            },
            "baxis": {
             "endlinecolor": "#2a3f5f",
             "gridcolor": "white",
             "linecolor": "white",
             "minorgridcolor": "white",
             "startlinecolor": "#2a3f5f"
            },
            "type": "carpet"
           }
          ],
          "choropleth": [
           {
            "colorbar": {
             "outlinewidth": 0,
             "ticks": ""
            },
            "type": "choropleth"
           }
          ],
          "contour": [
           {
            "colorbar": {
             "outlinewidth": 0,
             "ticks": ""
            },
            "colorscale": [
             [
              0,
              "#0d0887"
             ],
             [
              0.1111111111111111,
              "#46039f"
             ],
             [
              0.2222222222222222,
              "#7201a8"
             ],
             [
              0.3333333333333333,
              "#9c179e"
             ],
             [
              0.4444444444444444,
              "#bd3786"
             ],
             [
              0.5555555555555556,
              "#d8576b"
             ],
             [
              0.6666666666666666,
              "#ed7953"
             ],
             [
              0.7777777777777778,
              "#fb9f3a"
             ],
             [
              0.8888888888888888,
              "#fdca26"
             ],
             [
              1,
              "#f0f921"
             ]
            ],
            "type": "contour"
           }
          ],
          "contourcarpet": [
           {
            "colorbar": {
             "outlinewidth": 0,
             "ticks": ""
            },
            "type": "contourcarpet"
           }
          ],
          "heatmap": [
           {
            "colorbar": {
             "outlinewidth": 0,
             "ticks": ""
            },
            "colorscale": [
             [
              0,
              "#0d0887"
             ],
             [
              0.1111111111111111,
              "#46039f"
             ],
             [
              0.2222222222222222,
              "#7201a8"
             ],
             [
              0.3333333333333333,
              "#9c179e"
             ],
             [
              0.4444444444444444,
              "#bd3786"
             ],
             [
              0.5555555555555556,
              "#d8576b"
             ],
             [
              0.6666666666666666,
              "#ed7953"
             ],
             [
              0.7777777777777778,
              "#fb9f3a"
             ],
             [
              0.8888888888888888,
              "#fdca26"
             ],
             [
              1,
              "#f0f921"
             ]
            ],
            "type": "heatmap"
           }
          ],
          "heatmapgl": [
           {
            "colorbar": {
             "outlinewidth": 0,
             "ticks": ""
            },
            "colorscale": [
             [
              0,
              "#0d0887"
             ],
             [
              0.1111111111111111,
              "#46039f"
             ],
             [
              0.2222222222222222,
              "#7201a8"
             ],
             [
              0.3333333333333333,
              "#9c179e"
             ],
             [
              0.4444444444444444,
              "#bd3786"
             ],
             [
              0.5555555555555556,
              "#d8576b"
             ],
             [
              0.6666666666666666,
              "#ed7953"
             ],
             [
              0.7777777777777778,
              "#fb9f3a"
             ],
             [
              0.8888888888888888,
              "#fdca26"
             ],
             [
              1,
              "#f0f921"
             ]
            ],
            "type": "heatmapgl"
           }
          ],
          "histogram": [
           {
            "marker": {
             "pattern": {
              "fillmode": "overlay",
              "size": 10,
              "solidity": 0.2
             }
            },
            "type": "histogram"
           }
          ],
          "histogram2d": [
           {
            "colorbar": {
             "outlinewidth": 0,
             "ticks": ""
            },
            "colorscale": [
             [
              0,
              "#0d0887"
             ],
             [
              0.1111111111111111,
              "#46039f"
             ],
             [
              0.2222222222222222,
              "#7201a8"
             ],
             [
              0.3333333333333333,
              "#9c179e"
             ],
             [
              0.4444444444444444,
              "#bd3786"
             ],
             [
              0.5555555555555556,
              "#d8576b"
             ],
             [
              0.6666666666666666,
              "#ed7953"
             ],
             [
              0.7777777777777778,
              "#fb9f3a"
             ],
             [
              0.8888888888888888,
              "#fdca26"
             ],
             [
              1,
              "#f0f921"
             ]
            ],
            "type": "histogram2d"
           }
          ],
          "histogram2dcontour": [
           {
            "colorbar": {
             "outlinewidth": 0,
             "ticks": ""
            },
            "colorscale": [
             [
              0,
              "#0d0887"
             ],
             [
              0.1111111111111111,
              "#46039f"
             ],
             [
              0.2222222222222222,
              "#7201a8"
             ],
             [
              0.3333333333333333,
              "#9c179e"
             ],
             [
              0.4444444444444444,
              "#bd3786"
             ],
             [
              0.5555555555555556,
              "#d8576b"
             ],
             [
              0.6666666666666666,
              "#ed7953"
             ],
             [
              0.7777777777777778,
              "#fb9f3a"
             ],
             [
              0.8888888888888888,
              "#fdca26"
             ],
             [
              1,
              "#f0f921"
             ]
            ],
            "type": "histogram2dcontour"
           }
          ],
          "mesh3d": [
           {
            "colorbar": {
             "outlinewidth": 0,
             "ticks": ""
            },
            "type": "mesh3d"
           }
          ],
          "parcoords": [
           {
            "line": {
             "colorbar": {
              "outlinewidth": 0,
              "ticks": ""
             }
            },
            "type": "parcoords"
           }
          ],
          "pie": [
           {
            "automargin": true,
            "type": "pie"
           }
          ],
          "scatter": [
           {
            "fillpattern": {
             "fillmode": "overlay",
             "size": 10,
             "solidity": 0.2
            },
            "type": "scatter"
           }
          ],
          "scatter3d": [
           {
            "line": {
             "colorbar": {
              "outlinewidth": 0,
              "ticks": ""
             }
            },
            "marker": {
             "colorbar": {
              "outlinewidth": 0,
              "ticks": ""
             }
            },
            "type": "scatter3d"
           }
          ],
          "scattercarpet": [
           {
            "marker": {
             "colorbar": {
              "outlinewidth": 0,
              "ticks": ""
             }
            },
            "type": "scattercarpet"
           }
          ],
          "scattergeo": [
           {
            "marker": {
             "colorbar": {
              "outlinewidth": 0,
              "ticks": ""
             }
            },
            "type": "scattergeo"
           }
          ],
          "scattergl": [
           {
            "marker": {
             "colorbar": {
              "outlinewidth": 0,
              "ticks": ""
             }
            },
            "type": "scattergl"
           }
          ],
          "scattermapbox": [
           {
            "marker": {
             "colorbar": {
              "outlinewidth": 0,
              "ticks": ""
             }
            },
            "type": "scattermapbox"
           }
          ],
          "scatterpolar": [
           {
            "marker": {
             "colorbar": {
              "outlinewidth": 0,
              "ticks": ""
             }
            },
            "type": "scatterpolar"
           }
          ],
          "scatterpolargl": [
           {
            "marker": {
             "colorbar": {
              "outlinewidth": 0,
              "ticks": ""
             }
            },
            "type": "scatterpolargl"
           }
          ],
          "scatterternary": [
           {
            "marker": {
             "colorbar": {
              "outlinewidth": 0,
              "ticks": ""
             }
            },
            "type": "scatterternary"
           }
          ],
          "surface": [
           {
            "colorbar": {
             "outlinewidth": 0,
             "ticks": ""
            },
            "colorscale": [
             [
              0,
              "#0d0887"
             ],
             [
              0.1111111111111111,
              "#46039f"
             ],
             [
              0.2222222222222222,
              "#7201a8"
             ],
             [
              0.3333333333333333,
              "#9c179e"
             ],
             [
              0.4444444444444444,
              "#bd3786"
             ],
             [
              0.5555555555555556,
              "#d8576b"
             ],
             [
              0.6666666666666666,
              "#ed7953"
             ],
             [
              0.7777777777777778,
              "#fb9f3a"
             ],
             [
              0.8888888888888888,
              "#fdca26"
             ],
             [
              1,
              "#f0f921"
             ]
            ],
            "type": "surface"
           }
          ],
          "table": [
           {
            "cells": {
             "fill": {
              "color": "#EBF0F8"
             },
             "line": {
              "color": "white"
             }
            },
            "header": {
             "fill": {
              "color": "#C8D4E3"
             },
             "line": {
              "color": "white"
             }
            },
            "type": "table"
           }
          ]
         },
         "layout": {
          "annotationdefaults": {
           "arrowcolor": "#2a3f5f",
           "arrowhead": 0,
           "arrowwidth": 1
          },
          "autotypenumbers": "strict",
          "coloraxis": {
           "colorbar": {
            "outlinewidth": 0,
            "ticks": ""
           }
          },
          "colorscale": {
           "diverging": [
            [
             0,
             "#8e0152"
            ],
            [
             0.1,
             "#c51b7d"
            ],
            [
             0.2,
             "#de77ae"
            ],
            [
             0.3,
             "#f1b6da"
            ],
            [
             0.4,
             "#fde0ef"
            ],
            [
             0.5,
             "#f7f7f7"
            ],
            [
             0.6,
             "#e6f5d0"
            ],
            [
             0.7,
             "#b8e186"
            ],
            [
             0.8,
             "#7fbc41"
            ],
            [
             0.9,
             "#4d9221"
            ],
            [
             1,
             "#276419"
            ]
           ],
           "sequential": [
            [
             0,
             "#0d0887"
            ],
            [
             0.1111111111111111,
             "#46039f"
            ],
            [
             0.2222222222222222,
             "#7201a8"
            ],
            [
             0.3333333333333333,
             "#9c179e"
            ],
            [
             0.4444444444444444,
             "#bd3786"
            ],
            [
             0.5555555555555556,
             "#d8576b"
            ],
            [
             0.6666666666666666,
             "#ed7953"
            ],
            [
             0.7777777777777778,
             "#fb9f3a"
            ],
            [
             0.8888888888888888,
             "#fdca26"
            ],
            [
             1,
             "#f0f921"
            ]
           ],
           "sequentialminus": [
            [
             0,
             "#0d0887"
            ],
            [
             0.1111111111111111,
             "#46039f"
            ],
            [
             0.2222222222222222,
             "#7201a8"
            ],
            [
             0.3333333333333333,
             "#9c179e"
            ],
            [
             0.4444444444444444,
             "#bd3786"
            ],
            [
             0.5555555555555556,
             "#d8576b"
            ],
            [
             0.6666666666666666,
             "#ed7953"
            ],
            [
             0.7777777777777778,
             "#fb9f3a"
            ],
            [
             0.8888888888888888,
             "#fdca26"
            ],
            [
             1,
             "#f0f921"
            ]
           ]
          },
          "colorway": [
           "#636efa",
           "#EF553B",
           "#00cc96",
           "#ab63fa",
           "#FFA15A",
           "#19d3f3",
           "#FF6692",
           "#B6E880",
           "#FF97FF",
           "#FECB52"
          ],
          "font": {
           "color": "#2a3f5f"
          },
          "geo": {
           "bgcolor": "white",
           "lakecolor": "white",
           "landcolor": "#E5ECF6",
           "showlakes": true,
           "showland": true,
           "subunitcolor": "white"
          },
          "hoverlabel": {
           "align": "left"
          },
          "hovermode": "closest",
          "mapbox": {
           "style": "light"
          },
          "paper_bgcolor": "white",
          "plot_bgcolor": "#E5ECF6",
          "polar": {
           "angularaxis": {
            "gridcolor": "white",
            "linecolor": "white",
            "ticks": ""
           },
           "bgcolor": "#E5ECF6",
           "radialaxis": {
            "gridcolor": "white",
            "linecolor": "white",
            "ticks": ""
           }
          },
          "scene": {
           "xaxis": {
            "backgroundcolor": "#E5ECF6",
            "gridcolor": "white",
            "gridwidth": 2,
            "linecolor": "white",
            "showbackground": true,
            "ticks": "",
            "zerolinecolor": "white"
           },
           "yaxis": {
            "backgroundcolor": "#E5ECF6",
            "gridcolor": "white",
            "gridwidth": 2,
            "linecolor": "white",
            "showbackground": true,
            "ticks": "",
            "zerolinecolor": "white"
           },
           "zaxis": {
            "backgroundcolor": "#E5ECF6",
            "gridcolor": "white",
            "gridwidth": 2,
            "linecolor": "white",
            "showbackground": true,
            "ticks": "",
            "zerolinecolor": "white"
           }
          },
          "shapedefaults": {
           "line": {
            "color": "#2a3f5f"
           }
          },
          "ternary": {
           "aaxis": {
            "gridcolor": "white",
            "linecolor": "white",
            "ticks": ""
           },
           "baxis": {
            "gridcolor": "white",
            "linecolor": "white",
            "ticks": ""
           },
           "bgcolor": "#E5ECF6",
           "caxis": {
            "gridcolor": "white",
            "linecolor": "white",
            "ticks": ""
           }
          },
          "title": {
           "x": 0.05
          },
          "xaxis": {
           "automargin": true,
           "gridcolor": "white",
           "linecolor": "white",
           "ticks": "",
           "title": {
            "standoff": 15
           },
           "zerolinecolor": "white",
           "zerolinewidth": 2
          },
          "yaxis": {
           "automargin": true,
           "gridcolor": "white",
           "linecolor": "white",
           "ticks": "",
           "title": {
            "standoff": 15
           },
           "zerolinecolor": "white",
           "zerolinewidth": 2
          }
         }
        },
        "title": {
         "text": "Sentiment Funnel for Time1"
        },
        "xaxis": {
         "anchor": "y",
         "domain": [
          0,
          1
         ],
         "title": {
          "text": "value"
         }
        },
        "yaxis": {
         "anchor": "x",
         "domain": [
          0,
          1
         ],
         "title": {
          "text": "Sentiment"
         }
        }
       }
      }
     },
     "metadata": {},
     "output_type": "display_data"
    },
    {
     "data": {
      "application/vnd.plotly.v1+json": {
       "config": {
        "plotlyServerURL": "https://plot.ly"
       },
       "data": [
        {
         "hovertemplate": "variable=count<br>value=%{x}<br>Sentiment=%{y}<extra></extra>",
         "legendgroup": "count",
         "marker": {
          "color": "#636efa"
         },
         "name": "count",
         "orientation": "h",
         "showlegend": true,
         "type": "funnel",
         "x": [
          329394,
          67826,
          2
         ],
         "xaxis": "x",
         "y": [
          "Positive",
          "Negative",
          "Neutral"
         ],
         "yaxis": "y"
        }
       ],
       "layout": {
        "legend": {
         "title": {
          "text": "variable"
         },
         "tracegroupgap": 0
        },
        "template": {
         "data": {
          "bar": [
           {
            "error_x": {
             "color": "#2a3f5f"
            },
            "error_y": {
             "color": "#2a3f5f"
            },
            "marker": {
             "line": {
              "color": "#E5ECF6",
              "width": 0.5
             },
             "pattern": {
              "fillmode": "overlay",
              "size": 10,
              "solidity": 0.2
             }
            },
            "type": "bar"
           }
          ],
          "barpolar": [
           {
            "marker": {
             "line": {
              "color": "#E5ECF6",
              "width": 0.5
             },
             "pattern": {
              "fillmode": "overlay",
              "size": 10,
              "solidity": 0.2
             }
            },
            "type": "barpolar"
           }
          ],
          "carpet": [
           {
            "aaxis": {
             "endlinecolor": "#2a3f5f",
             "gridcolor": "white",
             "linecolor": "white",
             "minorgridcolor": "white",
             "startlinecolor": "#2a3f5f"
            },
            "baxis": {
             "endlinecolor": "#2a3f5f",
             "gridcolor": "white",
             "linecolor": "white",
             "minorgridcolor": "white",
             "startlinecolor": "#2a3f5f"
            },
            "type": "carpet"
           }
          ],
          "choropleth": [
           {
            "colorbar": {
             "outlinewidth": 0,
             "ticks": ""
            },
            "type": "choropleth"
           }
          ],
          "contour": [
           {
            "colorbar": {
             "outlinewidth": 0,
             "ticks": ""
            },
            "colorscale": [
             [
              0,
              "#0d0887"
             ],
             [
              0.1111111111111111,
              "#46039f"
             ],
             [
              0.2222222222222222,
              "#7201a8"
             ],
             [
              0.3333333333333333,
              "#9c179e"
             ],
             [
              0.4444444444444444,
              "#bd3786"
             ],
             [
              0.5555555555555556,
              "#d8576b"
             ],
             [
              0.6666666666666666,
              "#ed7953"
             ],
             [
              0.7777777777777778,
              "#fb9f3a"
             ],
             [
              0.8888888888888888,
              "#fdca26"
             ],
             [
              1,
              "#f0f921"
             ]
            ],
            "type": "contour"
           }
          ],
          "contourcarpet": [
           {
            "colorbar": {
             "outlinewidth": 0,
             "ticks": ""
            },
            "type": "contourcarpet"
           }
          ],
          "heatmap": [
           {
            "colorbar": {
             "outlinewidth": 0,
             "ticks": ""
            },
            "colorscale": [
             [
              0,
              "#0d0887"
             ],
             [
              0.1111111111111111,
              "#46039f"
             ],
             [
              0.2222222222222222,
              "#7201a8"
             ],
             [
              0.3333333333333333,
              "#9c179e"
             ],
             [
              0.4444444444444444,
              "#bd3786"
             ],
             [
              0.5555555555555556,
              "#d8576b"
             ],
             [
              0.6666666666666666,
              "#ed7953"
             ],
             [
              0.7777777777777778,
              "#fb9f3a"
             ],
             [
              0.8888888888888888,
              "#fdca26"
             ],
             [
              1,
              "#f0f921"
             ]
            ],
            "type": "heatmap"
           }
          ],
          "heatmapgl": [
           {
            "colorbar": {
             "outlinewidth": 0,
             "ticks": ""
            },
            "colorscale": [
             [
              0,
              "#0d0887"
             ],
             [
              0.1111111111111111,
              "#46039f"
             ],
             [
              0.2222222222222222,
              "#7201a8"
             ],
             [
              0.3333333333333333,
              "#9c179e"
             ],
             [
              0.4444444444444444,
              "#bd3786"
             ],
             [
              0.5555555555555556,
              "#d8576b"
             ],
             [
              0.6666666666666666,
              "#ed7953"
             ],
             [
              0.7777777777777778,
              "#fb9f3a"
             ],
             [
              0.8888888888888888,
              "#fdca26"
             ],
             [
              1,
              "#f0f921"
             ]
            ],
            "type": "heatmapgl"
           }
          ],
          "histogram": [
           {
            "marker": {
             "pattern": {
              "fillmode": "overlay",
              "size": 10,
              "solidity": 0.2
             }
            },
            "type": "histogram"
           }
          ],
          "histogram2d": [
           {
            "colorbar": {
             "outlinewidth": 0,
             "ticks": ""
            },
            "colorscale": [
             [
              0,
              "#0d0887"
             ],
             [
              0.1111111111111111,
              "#46039f"
             ],
             [
              0.2222222222222222,
              "#7201a8"
             ],
             [
              0.3333333333333333,
              "#9c179e"
             ],
             [
              0.4444444444444444,
              "#bd3786"
             ],
             [
              0.5555555555555556,
              "#d8576b"
             ],
             [
              0.6666666666666666,
              "#ed7953"
             ],
             [
              0.7777777777777778,
              "#fb9f3a"
             ],
             [
              0.8888888888888888,
              "#fdca26"
             ],
             [
              1,
              "#f0f921"
             ]
            ],
            "type": "histogram2d"
           }
          ],
          "histogram2dcontour": [
           {
            "colorbar": {
             "outlinewidth": 0,
             "ticks": ""
            },
            "colorscale": [
             [
              0,
              "#0d0887"
             ],
             [
              0.1111111111111111,
              "#46039f"
             ],
             [
              0.2222222222222222,
              "#7201a8"
             ],
             [
              0.3333333333333333,
              "#9c179e"
             ],
             [
              0.4444444444444444,
              "#bd3786"
             ],
             [
              0.5555555555555556,
              "#d8576b"
             ],
             [
              0.6666666666666666,
              "#ed7953"
             ],
             [
              0.7777777777777778,
              "#fb9f3a"
             ],
             [
              0.8888888888888888,
              "#fdca26"
             ],
             [
              1,
              "#f0f921"
             ]
            ],
            "type": "histogram2dcontour"
           }
          ],
          "mesh3d": [
           {
            "colorbar": {
             "outlinewidth": 0,
             "ticks": ""
            },
            "type": "mesh3d"
           }
          ],
          "parcoords": [
           {
            "line": {
             "colorbar": {
              "outlinewidth": 0,
              "ticks": ""
             }
            },
            "type": "parcoords"
           }
          ],
          "pie": [
           {
            "automargin": true,
            "type": "pie"
           }
          ],
          "scatter": [
           {
            "fillpattern": {
             "fillmode": "overlay",
             "size": 10,
             "solidity": 0.2
            },
            "type": "scatter"
           }
          ],
          "scatter3d": [
           {
            "line": {
             "colorbar": {
              "outlinewidth": 0,
              "ticks": ""
             }
            },
            "marker": {
             "colorbar": {
              "outlinewidth": 0,
              "ticks": ""
             }
            },
            "type": "scatter3d"
           }
          ],
          "scattercarpet": [
           {
            "marker": {
             "colorbar": {
              "outlinewidth": 0,
              "ticks": ""
             }
            },
            "type": "scattercarpet"
           }
          ],
          "scattergeo": [
           {
            "marker": {
             "colorbar": {
              "outlinewidth": 0,
              "ticks": ""
             }
            },
            "type": "scattergeo"
           }
          ],
          "scattergl": [
           {
            "marker": {
             "colorbar": {
              "outlinewidth": 0,
              "ticks": ""
             }
            },
            "type": "scattergl"
           }
          ],
          "scattermapbox": [
           {
            "marker": {
             "colorbar": {
              "outlinewidth": 0,
              "ticks": ""
             }
            },
            "type": "scattermapbox"
           }
          ],
          "scatterpolar": [
           {
            "marker": {
             "colorbar": {
              "outlinewidth": 0,
              "ticks": ""
             }
            },
            "type": "scatterpolar"
           }
          ],
          "scatterpolargl": [
           {
            "marker": {
             "colorbar": {
              "outlinewidth": 0,
              "ticks": ""
             }
            },
            "type": "scatterpolargl"
           }
          ],
          "scatterternary": [
           {
            "marker": {
             "colorbar": {
              "outlinewidth": 0,
              "ticks": ""
             }
            },
            "type": "scatterternary"
           }
          ],
          "surface": [
           {
            "colorbar": {
             "outlinewidth": 0,
             "ticks": ""
            },
            "colorscale": [
             [
              0,
              "#0d0887"
             ],
             [
              0.1111111111111111,
              "#46039f"
             ],
             [
              0.2222222222222222,
              "#7201a8"
             ],
             [
              0.3333333333333333,
              "#9c179e"
             ],
             [
              0.4444444444444444,
              "#bd3786"
             ],
             [
              0.5555555555555556,
              "#d8576b"
             ],
             [
              0.6666666666666666,
              "#ed7953"
             ],
             [
              0.7777777777777778,
              "#fb9f3a"
             ],
             [
              0.8888888888888888,
              "#fdca26"
             ],
             [
              1,
              "#f0f921"
             ]
            ],
            "type": "surface"
           }
          ],
          "table": [
           {
            "cells": {
             "fill": {
              "color": "#EBF0F8"
             },
             "line": {
              "color": "white"
             }
            },
            "header": {
             "fill": {
              "color": "#C8D4E3"
             },
             "line": {
              "color": "white"
             }
            },
            "type": "table"
           }
          ]
         },
         "layout": {
          "annotationdefaults": {
           "arrowcolor": "#2a3f5f",
           "arrowhead": 0,
           "arrowwidth": 1
          },
          "autotypenumbers": "strict",
          "coloraxis": {
           "colorbar": {
            "outlinewidth": 0,
            "ticks": ""
           }
          },
          "colorscale": {
           "diverging": [
            [
             0,
             "#8e0152"
            ],
            [
             0.1,
             "#c51b7d"
            ],
            [
             0.2,
             "#de77ae"
            ],
            [
             0.3,
             "#f1b6da"
            ],
            [
             0.4,
             "#fde0ef"
            ],
            [
             0.5,
             "#f7f7f7"
            ],
            [
             0.6,
             "#e6f5d0"
            ],
            [
             0.7,
             "#b8e186"
            ],
            [
             0.8,
             "#7fbc41"
            ],
            [
             0.9,
             "#4d9221"
            ],
            [
             1,
             "#276419"
            ]
           ],
           "sequential": [
            [
             0,
             "#0d0887"
            ],
            [
             0.1111111111111111,
             "#46039f"
            ],
            [
             0.2222222222222222,
             "#7201a8"
            ],
            [
             0.3333333333333333,
             "#9c179e"
            ],
            [
             0.4444444444444444,
             "#bd3786"
            ],
            [
             0.5555555555555556,
             "#d8576b"
            ],
            [
             0.6666666666666666,
             "#ed7953"
            ],
            [
             0.7777777777777778,
             "#fb9f3a"
            ],
            [
             0.8888888888888888,
             "#fdca26"
            ],
            [
             1,
             "#f0f921"
            ]
           ],
           "sequentialminus": [
            [
             0,
             "#0d0887"
            ],
            [
             0.1111111111111111,
             "#46039f"
            ],
            [
             0.2222222222222222,
             "#7201a8"
            ],
            [
             0.3333333333333333,
             "#9c179e"
            ],
            [
             0.4444444444444444,
             "#bd3786"
            ],
            [
             0.5555555555555556,
             "#d8576b"
            ],
            [
             0.6666666666666666,
             "#ed7953"
            ],
            [
             0.7777777777777778,
             "#fb9f3a"
            ],
            [
             0.8888888888888888,
             "#fdca26"
            ],
            [
             1,
             "#f0f921"
            ]
           ]
          },
          "colorway": [
           "#636efa",
           "#EF553B",
           "#00cc96",
           "#ab63fa",
           "#FFA15A",
           "#19d3f3",
           "#FF6692",
           "#B6E880",
           "#FF97FF",
           "#FECB52"
          ],
          "font": {
           "color": "#2a3f5f"
          },
          "geo": {
           "bgcolor": "white",
           "lakecolor": "white",
           "landcolor": "#E5ECF6",
           "showlakes": true,
           "showland": true,
           "subunitcolor": "white"
          },
          "hoverlabel": {
           "align": "left"
          },
          "hovermode": "closest",
          "mapbox": {
           "style": "light"
          },
          "paper_bgcolor": "white",
          "plot_bgcolor": "#E5ECF6",
          "polar": {
           "angularaxis": {
            "gridcolor": "white",
            "linecolor": "white",
            "ticks": ""
           },
           "bgcolor": "#E5ECF6",
           "radialaxis": {
            "gridcolor": "white",
            "linecolor": "white",
            "ticks": ""
           }
          },
          "scene": {
           "xaxis": {
            "backgroundcolor": "#E5ECF6",
            "gridcolor": "white",
            "gridwidth": 2,
            "linecolor": "white",
            "showbackground": true,
            "ticks": "",
            "zerolinecolor": "white"
           },
           "yaxis": {
            "backgroundcolor": "#E5ECF6",
            "gridcolor": "white",
            "gridwidth": 2,
            "linecolor": "white",
            "showbackground": true,
            "ticks": "",
            "zerolinecolor": "white"
           },
           "zaxis": {
            "backgroundcolor": "#E5ECF6",
            "gridcolor": "white",
            "gridwidth": 2,
            "linecolor": "white",
            "showbackground": true,
            "ticks": "",
            "zerolinecolor": "white"
           }
          },
          "shapedefaults": {
           "line": {
            "color": "#2a3f5f"
           }
          },
          "ternary": {
           "aaxis": {
            "gridcolor": "white",
            "linecolor": "white",
            "ticks": ""
           },
           "baxis": {
            "gridcolor": "white",
            "linecolor": "white",
            "ticks": ""
           },
           "bgcolor": "#E5ECF6",
           "caxis": {
            "gridcolor": "white",
            "linecolor": "white",
            "ticks": ""
           }
          },
          "title": {
           "x": 0.05
          },
          "xaxis": {
           "automargin": true,
           "gridcolor": "white",
           "linecolor": "white",
           "ticks": "",
           "title": {
            "standoff": 15
           },
           "zerolinecolor": "white",
           "zerolinewidth": 2
          },
          "yaxis": {
           "automargin": true,
           "gridcolor": "white",
           "linecolor": "white",
           "ticks": "",
           "title": {
            "standoff": 15
           },
           "zerolinecolor": "white",
           "zerolinewidth": 2
          }
         }
        },
        "title": {
         "text": "Sentiment Funnel for Time2"
        },
        "xaxis": {
         "anchor": "y",
         "domain": [
          0,
          1
         ],
         "title": {
          "text": "value"
         }
        },
        "yaxis": {
         "anchor": "x",
         "domain": [
          0,
          1
         ],
         "title": {
          "text": "Sentiment"
         }
        }
       }
      }
     },
     "metadata": {},
     "output_type": "display_data"
    }
   ],
   "source": [
    "\n",
    "# a graph for the sentiment as a funnel shaped graph\n",
    "fig_time1 = px.funnel(sentiment_values_time1, title='Sentiment Funnel for Time1')\n",
    "fig_time1.show()\n",
    "\n",
    "fig_time2 = px.funnel(sentiment_values_time2, title='Sentiment Funnel for Time2')\n",
    "fig_time2.show()\n"
   ]
  },
  {
   "cell_type": "code",
   "execution_count": null,
   "metadata": {},
   "outputs": [],
   "source": [
    "#!pip install nltk==3.8.1"
   ]
  },
  {
   "cell_type": "code",
   "execution_count": 27,
   "metadata": {},
   "outputs": [],
   "source": [
    "import nltk\n"
   ]
  },
  {
   "cell_type": "code",
   "execution_count": null,
   "metadata": {},
   "outputs": [],
   "source": [
    "nltk.download('punkt')# split the sentence\n",
    "nltk.download('wordnet')#textblob\n",
    "nltk.download('vader_lexicon')  # VADER\n",
    "nltk.download('stopwords')\n",
    "nltk.download('averaged_perceptron_tagger') #lexical notation    "
   ]
  },
  {
   "cell_type": "code",
   "execution_count": 28,
   "metadata": {},
   "outputs": [],
   "source": [
    "from nrclex import NRCLex\n",
    "from textblob import TextBlob"
   ]
  },
  {
   "cell_type": "code",
   "execution_count": null,
   "metadata": {},
   "outputs": [],
   "source": [
    "#!python -m textblob.download_corpora"
   ]
  },
  {
   "cell_type": "code",
   "execution_count": 30,
   "metadata": {},
   "outputs": [
    {
     "name": "stderr",
     "output_type": "stream",
     "text": [
      "/var/folders/k8/13s2hdrn4j3c1707gnj300r80000gn/T/ipykernel_80702/1060983536.py:1: SettingWithCopyWarning:\n",
      "\n",
      "\n",
      "A value is trying to be set on a copy of a slice from a DataFrame.\n",
      "Try using .loc[row_indexer,col_indexer] = value instead\n",
      "\n",
      "See the caveats in the documentation: https://pandas.pydata.org/pandas-docs/stable/user_guide/indexing.html#returning-a-view-versus-a-copy\n",
      "\n",
      "/var/folders/k8/13s2hdrn4j3c1707gnj300r80000gn/T/ipykernel_80702/1060983536.py:2: SettingWithCopyWarning:\n",
      "\n",
      "\n",
      "A value is trying to be set on a copy of a slice from a DataFrame.\n",
      "Try using .loc[row_indexer,col_indexer] = value instead\n",
      "\n",
      "See the caveats in the documentation: https://pandas.pydata.org/pandas-docs/stable/user_guide/indexing.html#returning-a-view-versus-a-copy\n",
      "\n"
     ]
    }
   ],
   "source": [
    "time1_data['Content'] = time1_data['Content'].astype(str)\n",
    "time2_data['Content'] = time2_data['Content'].astype(str)"
   ]
  },
  {
   "cell_type": "code",
   "execution_count": 31,
   "metadata": {},
   "outputs": [
    {
     "data": {
      "text/html": [
       "<div>\n",
       "<style scoped>\n",
       "    .dataframe tbody tr th:only-of-type {\n",
       "        vertical-align: middle;\n",
       "    }\n",
       "\n",
       "    .dataframe tbody tr th {\n",
       "        vertical-align: top;\n",
       "    }\n",
       "\n",
       "    .dataframe thead th {\n",
       "        text-align: right;\n",
       "    }\n",
       "</style>\n",
       "<table border=\"1\" class=\"dataframe\">\n",
       "  <thead>\n",
       "    <tr style=\"text-align: right;\">\n",
       "      <th></th>\n",
       "      <th>Date</th>\n",
       "      <th>From</th>\n",
       "      <th>To</th>\n",
       "      <th>Subject</th>\n",
       "      <th>X-From</th>\n",
       "      <th>X-To</th>\n",
       "      <th>X-Folder</th>\n",
       "      <th>Folder</th>\n",
       "      <th>X-Origin</th>\n",
       "      <th>X-Filename</th>\n",
       "      <th>Cotent</th>\n",
       "      <th>Employee</th>\n",
       "      <th>Year</th>\n",
       "      <th>Month</th>\n",
       "      <th>sentiment scores</th>\n",
       "      <th>Sentiment</th>\n",
       "      <th>Content</th>\n",
       "      <th>Emotions</th>\n",
       "    </tr>\n",
       "  </thead>\n",
       "  <tbody>\n",
       "    <tr>\n",
       "      <th>16627</th>\n",
       "      <td>2001-02-12 16:26:00+00:00</td>\n",
       "      <td>kerri.thompson@enron.com</td>\n",
       "      <td>kate.symes@enron.com</td>\n",
       "      <td>Re: broker fee</td>\n",
       "      <td>Kerri Thompson</td>\n",
       "      <td>Kate Symes</td>\n",
       "      <td>\\kate symes 6-27-02\\Notes Folders\\Discussion t...</td>\n",
       "      <td>discussion threads</td>\n",
       "      <td>SYMES-K</td>\n",
       "      <td>kate symes 6-27-02.nsf</td>\n",
       "      <td>i believe you are correct it is .015...  but, ...</td>\n",
       "      <td>symes-k</td>\n",
       "      <td>2001</td>\n",
       "      <td>2</td>\n",
       "      <td>{'neg': 0.0, 'neu': 0.92, 'pos': 0.08, 'compou...</td>\n",
       "      <td>Positive</td>\n",
       "      <td>i believe you are correct it is .015...  but, ...</td>\n",
       "      <td>anger</td>\n",
       "    </tr>\n",
       "    <tr>\n",
       "      <th>104546</th>\n",
       "      <td>2001-10-30 15:51:10+00:00</td>\n",
       "      <td>scott.dozier@enron.com</td>\n",
       "      <td>t..lucci@enron.com</td>\n",
       "      <td>RE: CMS Field Services - 09/01 prod</td>\n",
       "      <td>Dozier Scott</td>\n",
       "      <td>Lucci Paul T</td>\n",
       "      <td>\\TSTAAB (Non-Privileged)\\Staab, Theresa\\Inbox</td>\n",
       "      <td>inbox</td>\n",
       "      <td>Staab-T</td>\n",
       "      <td>TSTAAB (Non-Privileged).pst</td>\n",
       "      <td>Thank you.\\n\\nI have sent your note to Sean Ri...</td>\n",
       "      <td>staab-t</td>\n",
       "      <td>2001</td>\n",
       "      <td>10</td>\n",
       "      <td>{'neg': 0.007, 'neu': 0.932, 'pos': 0.061, 'co...</td>\n",
       "      <td>Positive</td>\n",
       "      <td>Thank you.\\n\\nI have sent your note to Sean Ri...</td>\n",
       "      <td>positive</td>\n",
       "    </tr>\n",
       "    <tr>\n",
       "      <th>130314</th>\n",
       "      <td>2001-05-08 09:39:00+00:00</td>\n",
       "      <td>stewart.rosman@enron.com</td>\n",
       "      <td>elizabeth.sager@enron.com</td>\n",
       "      <td>Carol St Clair</td>\n",
       "      <td>Stewart Rosman</td>\n",
       "      <td>Elizabeth Sager</td>\n",
       "      <td>\\Elizabeth_Sager_Jun2001\\Notes Folders\\Notes i...</td>\n",
       "      <td>notes inbox</td>\n",
       "      <td>Sager-E</td>\n",
       "      <td>esager.nsf</td>\n",
       "      <td>Elizabeth -\\n\\nI had a conversation with Carol...</td>\n",
       "      <td>sager-e</td>\n",
       "      <td>2001</td>\n",
       "      <td>5</td>\n",
       "      <td>{'neg': 0.0, 'neu': 0.863, 'pos': 0.137, 'comp...</td>\n",
       "      <td>Positive</td>\n",
       "      <td>Elizabeth -\\n\\nI had a conversation with Carol...</td>\n",
       "      <td>positive</td>\n",
       "    </tr>\n",
       "    <tr>\n",
       "      <th>396068</th>\n",
       "      <td>2000-10-30 08:03:00+00:00</td>\n",
       "      <td>anna.mehrer@enron.com</td>\n",
       "      <td>debra.davidson@enron.com, kathy.axford@enron.c...</td>\n",
       "      <td>ACTION REQUIRED - Time Entry Due 10/31/00</td>\n",
       "      <td>Anna Mehrer</td>\n",
       "      <td>Debra Davidson Kathy Axford Robert Anderson Ti...</td>\n",
       "      <td>\\mark guzman 6-28-02\\Notes Folders\\All documents</td>\n",
       "      <td>all documents</td>\n",
       "      <td>GUZMAN-M</td>\n",
       "      <td>mark guzman 6-28-02.nsf</td>\n",
       "      <td>It's that time again....\\n\\nThe deadline for e...</td>\n",
       "      <td>guzman-m</td>\n",
       "      <td>2000</td>\n",
       "      <td>10</td>\n",
       "      <td>{'neg': 0.027, 'neu': 0.835, 'pos': 0.138, 'co...</td>\n",
       "      <td>Positive</td>\n",
       "      <td>It's that time again....\\n\\nThe deadline for e...</td>\n",
       "      <td>positive</td>\n",
       "    </tr>\n",
       "    <tr>\n",
       "      <th>444670</th>\n",
       "      <td>2000-12-14 18:58:00+00:00</td>\n",
       "      <td>enron.announcements@enron.com</td>\n",
       "      <td>all.america@enron.com</td>\n",
       "      <td>SRRS Decommissioning Notification</td>\n",
       "      <td>Enron Announcements</td>\n",
       "      <td>All Enron Corp North America</td>\n",
       "      <td>\\Michelle_Lokay_Dec2000_June2001_2\\Notes Folde...</td>\n",
       "      <td>systems</td>\n",
       "      <td>LOKAY-M</td>\n",
       "      <td>mlokay.nsf</td>\n",
       "      <td>SRRS Decommissioning Notification\\n\\nWe are on...</td>\n",
       "      <td>lokay-m</td>\n",
       "      <td>2000</td>\n",
       "      <td>12</td>\n",
       "      <td>{'neg': 0.034, 'neu': 0.826, 'pos': 0.14, 'com...</td>\n",
       "      <td>Positive</td>\n",
       "      <td>SRRS Decommissioning Notification\\n\\nWe are on...</td>\n",
       "      <td>positive</td>\n",
       "    </tr>\n",
       "  </tbody>\n",
       "</table>\n",
       "</div>"
      ],
      "text/plain": [
       "                            Date                           From  \\\n",
       "16627  2001-02-12 16:26:00+00:00       kerri.thompson@enron.com   \n",
       "104546 2001-10-30 15:51:10+00:00         scott.dozier@enron.com   \n",
       "130314 2001-05-08 09:39:00+00:00       stewart.rosman@enron.com   \n",
       "396068 2000-10-30 08:03:00+00:00          anna.mehrer@enron.com   \n",
       "444670 2000-12-14 18:58:00+00:00  enron.announcements@enron.com   \n",
       "\n",
       "                                                       To  \\\n",
       "16627                                kate.symes@enron.com   \n",
       "104546                                 t..lucci@enron.com   \n",
       "130314                          elizabeth.sager@enron.com   \n",
       "396068  debra.davidson@enron.com, kathy.axford@enron.c...   \n",
       "444670                              all.america@enron.com   \n",
       "\n",
       "                                          Subject               X-From  \\\n",
       "16627                              Re: broker fee       Kerri Thompson   \n",
       "104546        RE: CMS Field Services - 09/01 prod         Dozier Scott   \n",
       "130314                             Carol St Clair       Stewart Rosman   \n",
       "396068  ACTION REQUIRED - Time Entry Due 10/31/00          Anna Mehrer   \n",
       "444670          SRRS Decommissioning Notification  Enron Announcements   \n",
       "\n",
       "                                                     X-To  \\\n",
       "16627                                          Kate Symes   \n",
       "104546                                       Lucci Paul T   \n",
       "130314                                    Elizabeth Sager   \n",
       "396068  Debra Davidson Kathy Axford Robert Anderson Ti...   \n",
       "444670                       All Enron Corp North America   \n",
       "\n",
       "                                                 X-Folder              Folder  \\\n",
       "16627   \\kate symes 6-27-02\\Notes Folders\\Discussion t...  discussion threads   \n",
       "104546      \\TSTAAB (Non-Privileged)\\Staab, Theresa\\Inbox               inbox   \n",
       "130314  \\Elizabeth_Sager_Jun2001\\Notes Folders\\Notes i...         notes inbox   \n",
       "396068   \\mark guzman 6-28-02\\Notes Folders\\All documents       all documents   \n",
       "444670  \\Michelle_Lokay_Dec2000_June2001_2\\Notes Folde...             systems   \n",
       "\n",
       "        X-Origin                   X-Filename  \\\n",
       "16627    SYMES-K       kate symes 6-27-02.nsf   \n",
       "104546   Staab-T  TSTAAB (Non-Privileged).pst   \n",
       "130314   Sager-E                   esager.nsf   \n",
       "396068  GUZMAN-M      mark guzman 6-28-02.nsf   \n",
       "444670   LOKAY-M                   mlokay.nsf   \n",
       "\n",
       "                                                   Cotent  Employee  Year  \\\n",
       "16627   i believe you are correct it is .015...  but, ...   symes-k  2001   \n",
       "104546  Thank you.\\n\\nI have sent your note to Sean Ri...   staab-t  2001   \n",
       "130314  Elizabeth -\\n\\nI had a conversation with Carol...   sager-e  2001   \n",
       "396068  It's that time again....\\n\\nThe deadline for e...  guzman-m  2000   \n",
       "444670  SRRS Decommissioning Notification\\n\\nWe are on...   lokay-m  2000   \n",
       "\n",
       "        Month                                   sentiment scores Sentiment  \\\n",
       "16627       2  {'neg': 0.0, 'neu': 0.92, 'pos': 0.08, 'compou...  Positive   \n",
       "104546     10  {'neg': 0.007, 'neu': 0.932, 'pos': 0.061, 'co...  Positive   \n",
       "130314      5  {'neg': 0.0, 'neu': 0.863, 'pos': 0.137, 'comp...  Positive   \n",
       "396068     10  {'neg': 0.027, 'neu': 0.835, 'pos': 0.138, 'co...  Positive   \n",
       "444670     12  {'neg': 0.034, 'neu': 0.826, 'pos': 0.14, 'com...  Positive   \n",
       "\n",
       "                                                  Content  Emotions  \n",
       "16627   i believe you are correct it is .015...  but, ...     anger  \n",
       "104546  Thank you.\\n\\nI have sent your note to Sean Ri...  positive  \n",
       "130314  Elizabeth -\\n\\nI had a conversation with Carol...  positive  \n",
       "396068  It's that time again....\\n\\nThe deadline for e...  positive  \n",
       "444670  SRRS Decommissioning Notification\\n\\nWe are on...  positive  "
      ]
     },
     "execution_count": 31,
     "metadata": {},
     "output_type": "execute_result"
    }
   ],
   "source": [
    "# defining another function for sentiment analysis with different emotions using NRCLex lexicon\n",
    "def sentiment(message):\n",
    "    text = NRCLex(message)\n",
    "    if text.top_emotions[0][1] == 0.0:\n",
    "        return 'No Emotion'\n",
    "    else:\n",
    "        return text.top_emotions[0][0]\n",
    "time1_data['Emotions'] =  time1_data['Content'].apply(sentiment)\n",
    "time2_data['Emotions'] =  time2_data['Content'].apply(sentiment)\n",
    "\n",
    "time1_data.sample(5)\n",
    "time2_data.sample(5)"
   ]
  },
  {
   "cell_type": "code",
   "execution_count": 32,
   "metadata": {},
   "outputs": [
    {
     "data": {
      "text/plain": [
       "(              count\n",
       " Emotions           \n",
       " positive      24590\n",
       " trust          7713\n",
       " anticipation   3688\n",
       " negative       2093\n",
       " fear           1709\n",
       " surprise        563\n",
       " anger           333\n",
       " sadness          75\n",
       " disgust           5\n",
       " joy               3,\n",
       "                count\n",
       " Emotions            \n",
       " positive      214589\n",
       " trust          58337\n",
       " anticipation   27183\n",
       " negative       17801\n",
       " fear           13121\n",
       " surprise        4232\n",
       " anger           2912\n",
       " sadness          580\n",
       " disgust           60\n",
       " joy               44)"
      ]
     },
     "execution_count": 32,
     "metadata": {},
     "output_type": "execute_result"
    }
   ],
   "source": [
    "emotions_time1 = time1_data['Emotions'].value_counts()\n",
    "emotions_time2 = time2_data['Emotions'].value_counts()\n",
    "\n",
    "emotion_chart_time1 = pd.DataFrame(emotions_time1)\n",
    "emotion_chart_time2 = pd.DataFrame(emotions_time2)\n",
    "\n",
    "emotion_chart_time1 = emotion_chart_time1.drop('No Emotion', axis = 0)\n",
    "emotion_chart_time2 = emotion_chart_time2.drop('No Emotion', axis = 0)\n",
    "\n",
    "emotion_chart_time1, emotion_chart_time2"
   ]
  },
  {
   "cell_type": "code",
   "execution_count": 33,
   "metadata": {},
   "outputs": [
    {
     "data": {
      "image/png": "[encoded data removed]",
      "text/plain": [
       "<Figure size 2000x1000 with 2 Axes>"
      ]
     },
     "metadata": {},
     "output_type": "display_data"
    }
   ],
   "source": [
    "# A pie chart for showing the percentage of every emotion in the text\n",
    "labels_time1 = emotion_chart_time1.index.tolist()\n",
    "labels_time2 = emotion_chart_time2.index.tolist()\n",
    "\n",
    "fig, axs=plt.subplots(1,2,figsize=(20,10))\n",
    "\n",
    "axs[0].pie(emotion_chart_time1['count'].values, labels = labels_time1 , autopct = '%1.1f%%',labeldistance= 1.1)\n",
    "axs[0].set_title('Emotions - Time1', fontsize=14)\n",
    "\n",
    "axs[1].pie(emotion_chart_time2['count'].values, labels = labels_time2 , autopct = '%1.1f%%',labeldistance= 1.1)\n",
    "axs[1].set_title('Emotions - Time2', fontsize=14)\n",
    "\n",
    "plt.legend(loc = 'upper right')\n",
    "plt.show()"
   ]
  },
  {
   "cell_type": "code",
   "execution_count": null,
   "metadata": {},
   "outputs": [],
   "source": []
  }
 ],
 "metadata": {
  "kernelspec": {
   "display_name": "3.10.14",
   "language": "python",
   "name": "python3"
  },
  "language_info": {
   "codemirror_mode": {
    "name": "ipython",
    "version": 3
   },
   "file_extension": ".py",
   "mimetype": "text/x-python",
   "name": "python",
   "nbconvert_exporter": "python",
   "pygments_lexer": "ipython3",
   "version": "3.10.14"
  }
 },
 "nbformat": 4,
 "nbformat_minor": 2
}
